{
 "cells": [
  {
   "cell_type": "markdown",
   "metadata": {},
   "source": [
    "# HouseDiffusion: Vector Floorplan Generation via a Diffusion Model with Discrete and Continuous Denoising"
   ]
  },
  {
   "cell_type": "markdown",
   "metadata": {},
   "source": [
    "## Introduction\n",
    "\n",
    "Automatically generating floor plans is a valuable task in architectural design and various creative applications. This paper, \"HouseDiffusion: Vector Floorplan Generation via a Diffusion Model with Discrete and Continuous Denoising,\" introduces a novel approach using a diffusion model for vector-based floor plan generation [1]. Traditional methods often rely on rule-based systems or optimization algorithms, which can be limited in flexibility and efficiency.\n",
    "\n",
    "## Diffusion Models for Floorplan Generation\n",
    "\n",
    "Diffusion models are a powerful class of generative models that have achieved impressive results in various domains, including image generation. These models work by gradually adding noise to a clean data sample, resulting in a highly noisy version. The model is then trained to reverse this process, effectively denoising the data step-by-step to recover the original clean sample.\n",
    "\n",
    "\n",
    "## Idea: Discrete and Continuous Denoising\n",
    "\n",
    "HouseDiffusion addresses this challenge by incorporating a two-stage denoising process:\n",
    "\n",
    "**Continuous Denoising:** This stage focuses on recovering precise 2D coordinates of room and door corners from noisy inputs. It treats these coordinates as continuous values and employs the diffusion model's ability to learn and reverse continuous noise addition.\n",
    "\n",
    "**Discrete Denoising:** This stage refines the geometric relationships between the recovered room corners. It recognizes that floor plans require specific geometric properties, such as wall connections, parallelism, and orthogonality. The model leverages the discrete nature of these relationships to ensure a valid floor plan layout.\n",
    "\n",
    "## Architecture: Transformer with Graph-based Attention\n",
    "\n",
    "HouseDiffusion utilizes a Transformer architecture as its core building block. Transformers are well-suited for tasks involving sequential data and relationships between elements. In this case, the sequential data represents the order of visiting room corners during the denoising process.\n",
    "\n",
    "The model incorporates graph constraints to guide the attention mechanism within the Transformer. A graph is constructed where nodes represent room corners and edges represent potential connections between them. By controlling the attention masks based on this graph, the model focuses on relevant corners during each denoising step, ensuring spatial coherence in the generated floor plan.\n",
    "\n",
    "## Evaluation and Results\n",
    "\n",
    "The authors evaluate HouseDiffusion on the RPLAN benchmark dataset(you can see it in download_data.sh), a commonly used collection of floor plan layouts. The model demonstrates competitive performance compared to existing baselines, generating diverse and valid floor plans. Additionally, the ablation studies confirm the effectiveness of the two-stage denoising process and the importance of graph-based attention in achieving high-quality results"
   ]
  },
  {
   "cell_type": "markdown",
   "metadata": {},
   "source": [
    "## Authors:\n",
    "\n",
    "**Alper Bahçekapılı** alper.bahcekapili@metu.edu.tr\n",
    "\n",
    "**Furkan Küçük** kucuk.furkan@metu.edu.tr\n"
   ]
  },
  {
   "cell_type": "markdown",
   "metadata": {},
   "source": [
    "## Hyperparameters\n",
    "\n",
    "* **Batch Size** : 128\n",
    "* **Learning Rate** : 1e-3\n",
    "* **ema Rate** : 0.9999\n",
    "* **Weight Decay** : 0\n",
    "* **LR Anneal Steps** : 100_000\n"
   ]
  },
  {
   "cell_type": "markdown",
   "metadata": {},
   "source": [
    "**Necessary imports**"
   ]
  },
  {
   "cell_type": "markdown",
   "metadata": {},
   "source": [
    "## Training"
   ]
  },
  {
   "cell_type": "code",
   "execution_count": 14,
   "metadata": {},
   "outputs": [
    {
     "name": "stdout",
     "output_type": "stream",
     "text": [
      "Logging to ckpts/openai_2024_05_05_17_43_38_861780\n",
      "creating models...\n",
      "Number of model parameters: 86890002\n",
      "COSINE\n",
      "creating data loader...\n",
      "training...\n"
     ]
    },
    {
     "name": "stderr",
     "output_type": "stream",
     "text": [
      "100%|██████████| 10/10 [00:00<00:00, 6677.76it/s]\n",
      "100%|██████████| 6/6 [00:00<00:00, 295.29it/s]\n",
      "processing dataset: 6it [00:00, 517.30it/s]\n",
      "/home/alpfischer/METU-Courses/CENG796/house-diffusion/.venv/lib/python3.10/site-packages/torch/nn/modules/instancenorm.py:80: UserWarning: input's size at dim=1 does not match num_features. You can silence this warning by not passing in num_features, which is not used because affine=False\n",
      "  warnings.warn(f\"input's size at dim={feature_dim} does not match num_features. \"\n"
     ]
    },
    {
     "name": "stdout",
     "output_type": "stream",
     "text": [
      "Step 0: Updating learning rate to 0.0001\n",
      "-------------------------\n",
      "| grad_norm  | 0.269    |\n",
      "| loss       | 0.0098   |\n",
      "| loss_q0    | 0.0104   |\n",
      "| loss_q1    | 0.00859  |\n",
      "| loss_q2    | 0.00858  |\n",
      "| loss_q3    | 0.0104   |\n",
      "| mse_bin    | 0        |\n",
      "| mse_bin_q0 | 0        |\n",
      "| mse_bin_q1 | 0        |\n",
      "| mse_bin_q2 | 0        |\n",
      "| mse_bin_q3 | 0        |\n",
      "| mse_dec    | 0.0098   |\n",
      "| mse_dec_q0 | 0.0104   |\n",
      "| mse_dec_q1 | 0.00859  |\n",
      "| mse_dec_q2 | 0.00858  |\n",
      "| mse_dec_q3 | 0.0104   |\n",
      "| param_norm | 173      |\n",
      "| samples    | 128      |\n",
      "| step       | 0        |\n",
      "-------------------------\n",
      "SAVINNNGNGG\n",
      "saving model 0...\n",
      "saving model 0.9999...\n"
     ]
    },
    {
     "ename": "KeyboardInterrupt",
     "evalue": "",
     "output_type": "error",
     "traceback": [
      "\u001b[0;31m---------------------------------------------------------------------------\u001b[0m",
      "\u001b[0;31mKeyboardInterrupt\u001b[0m                         Traceback (most recent call last)",
      "Cell \u001b[0;32mIn[14], line 60\u001b[0m\n\u001b[1;32m     38\u001b[0m data \u001b[38;5;241m=\u001b[39m load_rplanhg_data(\n\u001b[1;32m     39\u001b[0m     batch_size\u001b[38;5;241m=\u001b[39m\u001b[38;5;241m128\u001b[39m,\n\u001b[1;32m     40\u001b[0m     analog_bit \u001b[38;5;241m=\u001b[39m \u001b[38;5;28;01mFalse\u001b[39;00m,\n\u001b[0;32m   (...)\u001b[0m\n\u001b[1;32m     43\u001b[0m     num_points\u001b[38;5;241m=\u001b[39m\u001b[38;5;241m10\u001b[39m\n\u001b[1;32m     44\u001b[0m )\n\u001b[1;32m     45\u001b[0m logger\u001b[38;5;241m.\u001b[39mlog(\u001b[38;5;124m\"\u001b[39m\u001b[38;5;124mtraining...\u001b[39m\u001b[38;5;124m\"\u001b[39m)\n\u001b[1;32m     46\u001b[0m \u001b[43mTrainLoop\u001b[49m\u001b[43m(\u001b[49m\n\u001b[1;32m     47\u001b[0m \u001b[43m    \u001b[49m\u001b[43mmodel\u001b[49m\u001b[38;5;241;43m=\u001b[39;49m\u001b[43mmodel\u001b[49m\u001b[43m,\u001b[49m\n\u001b[1;32m     48\u001b[0m \u001b[43m    \u001b[49m\u001b[43mdiffusion\u001b[49m\u001b[38;5;241;43m=\u001b[39;49m\u001b[43mdiffusion\u001b[49m\u001b[43m,\u001b[49m\n\u001b[1;32m     49\u001b[0m \u001b[43m    \u001b[49m\u001b[43mdata\u001b[49m\u001b[38;5;241;43m=\u001b[39;49m\u001b[43mdata\u001b[49m\u001b[43m,\u001b[49m\n\u001b[1;32m     50\u001b[0m \u001b[43m    \u001b[49m\u001b[43mbatch_size\u001b[49m\u001b[38;5;241;43m=\u001b[39;49m\u001b[38;5;241;43m128\u001b[39;49m\u001b[43m,\u001b[49m\n\u001b[1;32m     51\u001b[0m \u001b[43m    \u001b[49m\u001b[43mmicrobatch\u001b[49m\u001b[38;5;241;43m=\u001b[39;49m\u001b[38;5;241;43m1\u001b[39;49m\u001b[43m,\u001b[49m\n\u001b[1;32m     52\u001b[0m \u001b[43m    \u001b[49m\u001b[43mlr\u001b[49m\u001b[38;5;241;43m=\u001b[39;49m\u001b[38;5;241;43m1e-4\u001b[39;49m\u001b[43m,\u001b[49m\n\u001b[1;32m     53\u001b[0m \u001b[43m    \u001b[49m\u001b[43mema_rate\u001b[49m\u001b[38;5;241;43m=\u001b[39;49m\u001b[38;5;241;43m0.9999\u001b[39;49m\u001b[43m,\u001b[49m\n\u001b[1;32m     54\u001b[0m \u001b[43m    \u001b[49m\u001b[43mlog_interval\u001b[49m\u001b[38;5;241;43m=\u001b[39;49m\u001b[38;5;241;43m100\u001b[39;49m\u001b[43m,\u001b[49m\n\u001b[1;32m     55\u001b[0m \u001b[43m    \u001b[49m\u001b[43msave_interval\u001b[49m\u001b[38;5;241;43m=\u001b[39;49m\u001b[38;5;241;43m10_000\u001b[39;49m\u001b[43m,\u001b[49m\n\u001b[1;32m     56\u001b[0m \u001b[43m    \u001b[49m\u001b[43mresume_checkpoint\u001b[49m\u001b[38;5;241;43m=\u001b[39;49m\u001b[38;5;124;43m\"\u001b[39;49m\u001b[38;5;124;43m\"\u001b[39;49m\u001b[43m,\u001b[49m\n\u001b[1;32m     57\u001b[0m \u001b[43m    \u001b[49m\u001b[43mschedule_sampler\u001b[49m\u001b[38;5;241;43m=\u001b[39;49m\u001b[43mschedule_sampler\u001b[49m\u001b[43m,\u001b[49m\n\u001b[1;32m     58\u001b[0m \u001b[43m    \u001b[49m\u001b[43mweight_decay\u001b[49m\u001b[38;5;241;43m=\u001b[39;49m\u001b[38;5;241;43m0\u001b[39;49m\u001b[43m,\u001b[49m\n\u001b[1;32m     59\u001b[0m \u001b[43m    \u001b[49m\u001b[43mlr_anneal_steps\u001b[49m\u001b[38;5;241;43m=\u001b[39;49m\u001b[38;5;241;43m100_000\u001b[39;49m\u001b[43m,\u001b[49m\n\u001b[0;32m---> 60\u001b[0m \u001b[43m)\u001b[49m\u001b[38;5;241;43m.\u001b[39;49m\u001b[43mrun_loop\u001b[49m\u001b[43m(\u001b[49m\u001b[43m)\u001b[49m\n",
      "File \u001b[0;32m~/METU-Courses/CENG796/house-diffusion/model/util.py:569\u001b[0m, in \u001b[0;36mTrainLoop.run_loop\u001b[0;34m(self)\u001b[0m\n\u001b[1;32m    564\u001b[0m \u001b[38;5;28;01mdef\u001b[39;00m \u001b[38;5;21mrun_loop\u001b[39m(\u001b[38;5;28mself\u001b[39m):\n\u001b[1;32m    565\u001b[0m     \u001b[38;5;28;01mwhile\u001b[39;00m (\n\u001b[1;32m    566\u001b[0m         \u001b[38;5;129;01mnot\u001b[39;00m \u001b[38;5;28mself\u001b[39m\u001b[38;5;241m.\u001b[39mlr_anneal_steps\n\u001b[1;32m    567\u001b[0m         \u001b[38;5;129;01mor\u001b[39;00m \u001b[38;5;28mself\u001b[39m\u001b[38;5;241m.\u001b[39mstep \u001b[38;5;241m+\u001b[39m \u001b[38;5;28mself\u001b[39m\u001b[38;5;241m.\u001b[39mresume_step \u001b[38;5;241m<\u001b[39m \u001b[38;5;28mself\u001b[39m\u001b[38;5;241m.\u001b[39mlr_anneal_steps\n\u001b[1;32m    568\u001b[0m     ):\n\u001b[0;32m--> 569\u001b[0m         batch, cond \u001b[38;5;241m=\u001b[39m \u001b[38;5;28;43mnext\u001b[39;49m\u001b[43m(\u001b[49m\u001b[38;5;28;43mself\u001b[39;49m\u001b[38;5;241;43m.\u001b[39;49m\u001b[43mdata\u001b[49m\u001b[43m)\u001b[49m\n\u001b[1;32m    570\u001b[0m         \u001b[38;5;28mself\u001b[39m\u001b[38;5;241m.\u001b[39mrun_step(batch, cond)\n\u001b[1;32m    571\u001b[0m         \u001b[38;5;28;01mif\u001b[39;00m \u001b[38;5;28mself\u001b[39m\u001b[38;5;241m.\u001b[39mstep \u001b[38;5;241m%\u001b[39m \u001b[38;5;241m100_000\u001b[39m \u001b[38;5;241m==\u001b[39m \u001b[38;5;241m0\u001b[39m:\n",
      "File \u001b[0;32m~/METU-Courses/CENG796/house-diffusion/dataset.py:512\u001b[0m, in \u001b[0;36mload_rplanhg_data\u001b[0;34m(batch_size, analog_bit, target_set, set_name, root_folder, num_points)\u001b[0m\n\u001b[1;32m    508\u001b[0m loader \u001b[38;5;241m=\u001b[39m DataLoader(\n\u001b[1;32m    509\u001b[0m         dataset_obj, batch_size\u001b[38;5;241m=\u001b[39mbatch_size, shuffle\u001b[38;5;241m=\u001b[39m\u001b[38;5;28;01mTrue\u001b[39;00m, num_workers\u001b[38;5;241m=\u001b[39m\u001b[38;5;241m2\u001b[39m, drop_last\u001b[38;5;241m=\u001b[39m\u001b[38;5;28;01mFalse\u001b[39;00m\n\u001b[1;32m    510\u001b[0m )\n\u001b[1;32m    511\u001b[0m \u001b[38;5;28;01mwhile\u001b[39;00m \u001b[38;5;28;01mTrue\u001b[39;00m:\n\u001b[0;32m--> 512\u001b[0m     \u001b[38;5;28;01myield from\u001b[39;00m loader\n",
      "File \u001b[0;32m~/METU-Courses/CENG796/house-diffusion/.venv/lib/python3.10/site-packages/torch/utils/data/dataloader.py:631\u001b[0m, in \u001b[0;36m_BaseDataLoaderIter.__next__\u001b[0;34m(self)\u001b[0m\n\u001b[1;32m    628\u001b[0m \u001b[38;5;28;01mif\u001b[39;00m \u001b[38;5;28mself\u001b[39m\u001b[38;5;241m.\u001b[39m_sampler_iter \u001b[38;5;129;01mis\u001b[39;00m \u001b[38;5;28;01mNone\u001b[39;00m:\n\u001b[1;32m    629\u001b[0m     \u001b[38;5;66;03m# TODO(https://github.com/pytorch/pytorch/issues/76750)\u001b[39;00m\n\u001b[1;32m    630\u001b[0m     \u001b[38;5;28mself\u001b[39m\u001b[38;5;241m.\u001b[39m_reset()  \u001b[38;5;66;03m# type: ignore[call-arg]\u001b[39;00m\n\u001b[0;32m--> 631\u001b[0m data \u001b[38;5;241m=\u001b[39m \u001b[38;5;28;43mself\u001b[39;49m\u001b[38;5;241;43m.\u001b[39;49m\u001b[43m_next_data\u001b[49m\u001b[43m(\u001b[49m\u001b[43m)\u001b[49m\n\u001b[1;32m    632\u001b[0m \u001b[38;5;28mself\u001b[39m\u001b[38;5;241m.\u001b[39m_num_yielded \u001b[38;5;241m+\u001b[39m\u001b[38;5;241m=\u001b[39m \u001b[38;5;241m1\u001b[39m\n\u001b[1;32m    633\u001b[0m \u001b[38;5;28;01mif\u001b[39;00m \u001b[38;5;28mself\u001b[39m\u001b[38;5;241m.\u001b[39m_dataset_kind \u001b[38;5;241m==\u001b[39m _DatasetKind\u001b[38;5;241m.\u001b[39mIterable \u001b[38;5;129;01mand\u001b[39;00m \\\n\u001b[1;32m    634\u001b[0m         \u001b[38;5;28mself\u001b[39m\u001b[38;5;241m.\u001b[39m_IterableDataset_len_called \u001b[38;5;129;01mis\u001b[39;00m \u001b[38;5;129;01mnot\u001b[39;00m \u001b[38;5;28;01mNone\u001b[39;00m \u001b[38;5;129;01mand\u001b[39;00m \\\n\u001b[1;32m    635\u001b[0m         \u001b[38;5;28mself\u001b[39m\u001b[38;5;241m.\u001b[39m_num_yielded \u001b[38;5;241m>\u001b[39m \u001b[38;5;28mself\u001b[39m\u001b[38;5;241m.\u001b[39m_IterableDataset_len_called:\n",
      "File \u001b[0;32m~/METU-Courses/CENG796/house-diffusion/.venv/lib/python3.10/site-packages/torch/utils/data/dataloader.py:1329\u001b[0m, in \u001b[0;36m_MultiProcessingDataLoaderIter._next_data\u001b[0;34m(self)\u001b[0m\n\u001b[1;32m   1326\u001b[0m     \u001b[38;5;28;01mreturn\u001b[39;00m \u001b[38;5;28mself\u001b[39m\u001b[38;5;241m.\u001b[39m_process_data(data)\n\u001b[1;32m   1328\u001b[0m \u001b[38;5;28;01massert\u001b[39;00m \u001b[38;5;129;01mnot\u001b[39;00m \u001b[38;5;28mself\u001b[39m\u001b[38;5;241m.\u001b[39m_shutdown \u001b[38;5;129;01mand\u001b[39;00m \u001b[38;5;28mself\u001b[39m\u001b[38;5;241m.\u001b[39m_tasks_outstanding \u001b[38;5;241m>\u001b[39m \u001b[38;5;241m0\u001b[39m\n\u001b[0;32m-> 1329\u001b[0m idx, data \u001b[38;5;241m=\u001b[39m \u001b[38;5;28;43mself\u001b[39;49m\u001b[38;5;241;43m.\u001b[39;49m\u001b[43m_get_data\u001b[49m\u001b[43m(\u001b[49m\u001b[43m)\u001b[49m\n\u001b[1;32m   1330\u001b[0m \u001b[38;5;28mself\u001b[39m\u001b[38;5;241m.\u001b[39m_tasks_outstanding \u001b[38;5;241m-\u001b[39m\u001b[38;5;241m=\u001b[39m \u001b[38;5;241m1\u001b[39m\n\u001b[1;32m   1331\u001b[0m \u001b[38;5;28;01mif\u001b[39;00m \u001b[38;5;28mself\u001b[39m\u001b[38;5;241m.\u001b[39m_dataset_kind \u001b[38;5;241m==\u001b[39m _DatasetKind\u001b[38;5;241m.\u001b[39mIterable:\n\u001b[1;32m   1332\u001b[0m     \u001b[38;5;66;03m# Check for _IterableDatasetStopIteration\u001b[39;00m\n",
      "File \u001b[0;32m~/METU-Courses/CENG796/house-diffusion/.venv/lib/python3.10/site-packages/torch/utils/data/dataloader.py:1295\u001b[0m, in \u001b[0;36m_MultiProcessingDataLoaderIter._get_data\u001b[0;34m(self)\u001b[0m\n\u001b[1;32m   1291\u001b[0m     \u001b[38;5;66;03m# In this case, `self._data_queue` is a `queue.Queue`,. But we don't\u001b[39;00m\n\u001b[1;32m   1292\u001b[0m     \u001b[38;5;66;03m# need to call `.task_done()` because we don't use `.join()`.\u001b[39;00m\n\u001b[1;32m   1293\u001b[0m \u001b[38;5;28;01melse\u001b[39;00m:\n\u001b[1;32m   1294\u001b[0m     \u001b[38;5;28;01mwhile\u001b[39;00m \u001b[38;5;28;01mTrue\u001b[39;00m:\n\u001b[0;32m-> 1295\u001b[0m         success, data \u001b[38;5;241m=\u001b[39m \u001b[38;5;28;43mself\u001b[39;49m\u001b[38;5;241;43m.\u001b[39;49m\u001b[43m_try_get_data\u001b[49m\u001b[43m(\u001b[49m\u001b[43m)\u001b[49m\n\u001b[1;32m   1296\u001b[0m         \u001b[38;5;28;01mif\u001b[39;00m success:\n\u001b[1;32m   1297\u001b[0m             \u001b[38;5;28;01mreturn\u001b[39;00m data\n",
      "File \u001b[0;32m~/METU-Courses/CENG796/house-diffusion/.venv/lib/python3.10/site-packages/torch/utils/data/dataloader.py:1133\u001b[0m, in \u001b[0;36m_MultiProcessingDataLoaderIter._try_get_data\u001b[0;34m(self, timeout)\u001b[0m\n\u001b[1;32m   1120\u001b[0m \u001b[38;5;28;01mdef\u001b[39;00m \u001b[38;5;21m_try_get_data\u001b[39m(\u001b[38;5;28mself\u001b[39m, timeout\u001b[38;5;241m=\u001b[39m_utils\u001b[38;5;241m.\u001b[39mMP_STATUS_CHECK_INTERVAL):\n\u001b[1;32m   1121\u001b[0m     \u001b[38;5;66;03m# Tries to fetch data from `self._data_queue` once for a given timeout.\u001b[39;00m\n\u001b[1;32m   1122\u001b[0m     \u001b[38;5;66;03m# This can also be used as inner loop of fetching without timeout, with\u001b[39;00m\n\u001b[0;32m   (...)\u001b[0m\n\u001b[1;32m   1130\u001b[0m     \u001b[38;5;66;03m# Returns a 2-tuple:\u001b[39;00m\n\u001b[1;32m   1131\u001b[0m     \u001b[38;5;66;03m#   (bool: whether successfully get data, any: data if successful else None)\u001b[39;00m\n\u001b[1;32m   1132\u001b[0m     \u001b[38;5;28;01mtry\u001b[39;00m:\n\u001b[0;32m-> 1133\u001b[0m         data \u001b[38;5;241m=\u001b[39m \u001b[38;5;28;43mself\u001b[39;49m\u001b[38;5;241;43m.\u001b[39;49m\u001b[43m_data_queue\u001b[49m\u001b[38;5;241;43m.\u001b[39;49m\u001b[43mget\u001b[49m\u001b[43m(\u001b[49m\u001b[43mtimeout\u001b[49m\u001b[38;5;241;43m=\u001b[39;49m\u001b[43mtimeout\u001b[49m\u001b[43m)\u001b[49m\n\u001b[1;32m   1134\u001b[0m         \u001b[38;5;28;01mreturn\u001b[39;00m (\u001b[38;5;28;01mTrue\u001b[39;00m, data)\n\u001b[1;32m   1135\u001b[0m     \u001b[38;5;28;01mexcept\u001b[39;00m \u001b[38;5;167;01mException\u001b[39;00m \u001b[38;5;28;01mas\u001b[39;00m e:\n\u001b[1;32m   1136\u001b[0m         \u001b[38;5;66;03m# At timeout and error, we manually check whether any worker has\u001b[39;00m\n\u001b[1;32m   1137\u001b[0m         \u001b[38;5;66;03m# failed. Note that this is the only mechanism for Windows to detect\u001b[39;00m\n\u001b[1;32m   1138\u001b[0m         \u001b[38;5;66;03m# worker failures.\u001b[39;00m\n",
      "File \u001b[0;32m/usr/lib/python3.10/multiprocessing/queues.py:113\u001b[0m, in \u001b[0;36mQueue.get\u001b[0;34m(self, block, timeout)\u001b[0m\n\u001b[1;32m    111\u001b[0m \u001b[38;5;28;01mif\u001b[39;00m block:\n\u001b[1;32m    112\u001b[0m     timeout \u001b[38;5;241m=\u001b[39m deadline \u001b[38;5;241m-\u001b[39m time\u001b[38;5;241m.\u001b[39mmonotonic()\n\u001b[0;32m--> 113\u001b[0m     \u001b[38;5;28;01mif\u001b[39;00m \u001b[38;5;129;01mnot\u001b[39;00m \u001b[38;5;28;43mself\u001b[39;49m\u001b[38;5;241;43m.\u001b[39;49m\u001b[43m_poll\u001b[49m\u001b[43m(\u001b[49m\u001b[43mtimeout\u001b[49m\u001b[43m)\u001b[49m:\n\u001b[1;32m    114\u001b[0m         \u001b[38;5;28;01mraise\u001b[39;00m Empty\n\u001b[1;32m    115\u001b[0m \u001b[38;5;28;01melif\u001b[39;00m \u001b[38;5;129;01mnot\u001b[39;00m \u001b[38;5;28mself\u001b[39m\u001b[38;5;241m.\u001b[39m_poll():\n",
      "File \u001b[0;32m/usr/lib/python3.10/multiprocessing/connection.py:257\u001b[0m, in \u001b[0;36m_ConnectionBase.poll\u001b[0;34m(self, timeout)\u001b[0m\n\u001b[1;32m    255\u001b[0m \u001b[38;5;28mself\u001b[39m\u001b[38;5;241m.\u001b[39m_check_closed()\n\u001b[1;32m    256\u001b[0m \u001b[38;5;28mself\u001b[39m\u001b[38;5;241m.\u001b[39m_check_readable()\n\u001b[0;32m--> 257\u001b[0m \u001b[38;5;28;01mreturn\u001b[39;00m \u001b[38;5;28;43mself\u001b[39;49m\u001b[38;5;241;43m.\u001b[39;49m\u001b[43m_poll\u001b[49m\u001b[43m(\u001b[49m\u001b[43mtimeout\u001b[49m\u001b[43m)\u001b[49m\n",
      "File \u001b[0;32m/usr/lib/python3.10/multiprocessing/connection.py:424\u001b[0m, in \u001b[0;36mConnection._poll\u001b[0;34m(self, timeout)\u001b[0m\n\u001b[1;32m    423\u001b[0m \u001b[38;5;28;01mdef\u001b[39;00m \u001b[38;5;21m_poll\u001b[39m(\u001b[38;5;28mself\u001b[39m, timeout):\n\u001b[0;32m--> 424\u001b[0m     r \u001b[38;5;241m=\u001b[39m \u001b[43mwait\u001b[49m\u001b[43m(\u001b[49m\u001b[43m[\u001b[49m\u001b[38;5;28;43mself\u001b[39;49m\u001b[43m]\u001b[49m\u001b[43m,\u001b[49m\u001b[43m \u001b[49m\u001b[43mtimeout\u001b[49m\u001b[43m)\u001b[49m\n\u001b[1;32m    425\u001b[0m     \u001b[38;5;28;01mreturn\u001b[39;00m \u001b[38;5;28mbool\u001b[39m(r)\n",
      "File \u001b[0;32m/usr/lib/python3.10/multiprocessing/connection.py:931\u001b[0m, in \u001b[0;36mwait\u001b[0;34m(object_list, timeout)\u001b[0m\n\u001b[1;32m    928\u001b[0m     deadline \u001b[38;5;241m=\u001b[39m time\u001b[38;5;241m.\u001b[39mmonotonic() \u001b[38;5;241m+\u001b[39m timeout\n\u001b[1;32m    930\u001b[0m \u001b[38;5;28;01mwhile\u001b[39;00m \u001b[38;5;28;01mTrue\u001b[39;00m:\n\u001b[0;32m--> 931\u001b[0m     ready \u001b[38;5;241m=\u001b[39m \u001b[43mselector\u001b[49m\u001b[38;5;241;43m.\u001b[39;49m\u001b[43mselect\u001b[49m\u001b[43m(\u001b[49m\u001b[43mtimeout\u001b[49m\u001b[43m)\u001b[49m\n\u001b[1;32m    932\u001b[0m     \u001b[38;5;28;01mif\u001b[39;00m ready:\n\u001b[1;32m    933\u001b[0m         \u001b[38;5;28;01mreturn\u001b[39;00m [key\u001b[38;5;241m.\u001b[39mfileobj \u001b[38;5;28;01mfor\u001b[39;00m (key, events) \u001b[38;5;129;01min\u001b[39;00m ready]\n",
      "File \u001b[0;32m/usr/lib/python3.10/selectors.py:416\u001b[0m, in \u001b[0;36m_PollLikeSelector.select\u001b[0;34m(self, timeout)\u001b[0m\n\u001b[1;32m    414\u001b[0m ready \u001b[38;5;241m=\u001b[39m []\n\u001b[1;32m    415\u001b[0m \u001b[38;5;28;01mtry\u001b[39;00m:\n\u001b[0;32m--> 416\u001b[0m     fd_event_list \u001b[38;5;241m=\u001b[39m \u001b[38;5;28;43mself\u001b[39;49m\u001b[38;5;241;43m.\u001b[39;49m\u001b[43m_selector\u001b[49m\u001b[38;5;241;43m.\u001b[39;49m\u001b[43mpoll\u001b[49m\u001b[43m(\u001b[49m\u001b[43mtimeout\u001b[49m\u001b[43m)\u001b[49m\n\u001b[1;32m    417\u001b[0m \u001b[38;5;28;01mexcept\u001b[39;00m \u001b[38;5;167;01mInterruptedError\u001b[39;00m:\n\u001b[1;32m    418\u001b[0m     \u001b[38;5;28;01mreturn\u001b[39;00m ready\n",
      "\u001b[0;31mKeyboardInterrupt\u001b[0m: "
     ]
    }
   ],
   "source": [
    "import argparse\n",
    "\n",
    "from model import dist_util, logger\n",
    "from dataset import load_rplanhg_data\n",
    "from model.sample import create_named_schedule_sampler\n",
    "from util.util import (\n",
    "    create_model_and_diffusion,\n",
    ")\n",
    "from model.util import TrainLoop\n",
    "num_channels = 1024\n",
    "num_coords = 2\n",
    "input_channels = 18\n",
    "condition_channels = 89\n",
    "out_channels = num_coords * 1\n",
    "\n",
    "logger.configure()\n",
    "logger.log(\"creating models...\")\n",
    "\n",
    "model, diffusion = create_model_and_diffusion(\n",
    "    input_channels = input_channels,\n",
    "    condition_channels = condition_channels,\n",
    "    num_channels = num_channels,\n",
    "    out_channels = out_channels,\n",
    "    learn_sigma = False,\n",
    "    diffusion_steps=1000,\n",
    "    noise_schedule=\"cosine\",\n",
    "    timestep_respacing=\"\",\n",
    "    predict_xstart = False,\n",
    "    rescale_timesteps = False,\n",
    "    rescale_learned_sigmas = False,\n",
    "    analog_bit = False\n",
    ")\n",
    "model.to(dist_util.dev())\n",
    "schedule_sampler = create_named_schedule_sampler(\"uniform\", diffusion)\n",
    "\n",
    "logger.log(\"creating data loader...\")\n",
    "\n",
    "data = load_rplanhg_data(\n",
    "    batch_size=128,\n",
    "    analog_bit = False,\n",
    "    target_set=8,\n",
    "    set_name=\"train\",\n",
    "    num_points=10\n",
    ")\n",
    "logger.log(\"training...\")\n",
    "TrainLoop(\n",
    "    model=model,\n",
    "    diffusion=diffusion,\n",
    "    data=data,\n",
    "    batch_size=128,\n",
    "    microbatch=1,\n",
    "    lr=1e-4,\n",
    "    ema_rate=0.9999,\n",
    "    log_interval=100,\n",
    "    save_interval=10_000,\n",
    "    resume_checkpoint=\"\",\n",
    "    schedule_sampler=schedule_sampler,\n",
    "    weight_decay=0,\n",
    "    lr_anneal_steps=100_000,\n",
    ").run_loop()"
   ]
  },
  {
   "cell_type": "markdown",
   "metadata": {},
   "source": [
    "Above code trains a model and saves it to ckpts/ folder. There you can find saved models as model_XXXXXX.pt where XXX_XXX means # of steps. After execution is completed you can find a file called progress.csv as well which records the statistics trougout the training"
   ]
  },
  {
   "cell_type": "markdown",
   "metadata": {},
   "source": [
    "### Visualize the training"
   ]
  },
  {
   "cell_type": "code",
   "execution_count": 15,
   "metadata": {},
   "outputs": [
    {
     "name": "stdout",
     "output_type": "stream",
     "text": [
      "dict_keys(['grad_norm', 'loss', 'loss_q0', 'loss_q1', 'loss_q2', 'loss_q3', 'mse_bin', 'mse_bin_q0', 'mse_bin_q1', 'mse_bin_q2', 'mse_bin_q3', 'mse_dec', 'mse_dec_q0', 'mse_dec_q1', 'mse_dec_q2', 'mse_dec_q3', 'param_norm', 'samples', 'step'])\n"
     ]
    },
    {
     "data": {
      "image/png": "[encoded data removed]",
      "text/plain": [
       "<Figure size 640x480 with 4 Axes>"
      ]
     },
     "metadata": {},
     "output_type": "display_data"
    }
   ],
   "source": [
    "stats = {}\n",
    "with open(\"ckpts/10000steps/progress.csv\", \"r\") as f:\n",
    "    lines = f.readlines()\n",
    "    keys = lines[0].split(\",\")\n",
    "\n",
    "    for l in lines[1:]:\n",
    "        stats_tmp = l.split(\",\")\n",
    "        for i in range(len(keys)):\n",
    "            k = keys[i].strip()\n",
    "            if k not in stats:\n",
    "                stats[k] = []\n",
    "            stats[k].append(float(stats_tmp[i].strip()))\n",
    "print(stats.keys())\n",
    "# grad norm\n",
    "# loss\n",
    "# mse_bin\n",
    "# mse_dec\n",
    "from matplotlib import pyplot as plt\n",
    "fig, axis = plt.subplots(nrows=2, ncols=2)\n",
    "axis[0,0].set_title(\"grad_norm\")\n",
    "axis[0,0].plot(stats[\"step\"], stats[\"grad_norm\"], )\n",
    "\n",
    "\n",
    "axis[0,1].set_title(\"loss\")\n",
    "axis[0,1].plot(stats[\"step\"], stats[\"loss\"], )\n",
    "\n",
    "\n",
    "axis[1,0].set_title(\"mse_bin\")\n",
    "axis[1,0].plot(stats[\"step\"], stats[\"mse_bin\"], )\n",
    "\n",
    "\n",
    "axis[1,1].set_title(\"mse_dec\")\n",
    "axis[1,1].plot(stats[\"step\"], stats[\"mse_dec\"], )\n",
    "plt.subplots_adjust(hspace=0.5, wspace=0.5)  # Adjust these values as needed"
   ]
  },
  {
   "cell_type": "markdown",
   "metadata": {},
   "source": [
    "## Load a pretrained model and take samples from it"
   ]
  },
  {
   "cell_type": "code",
   "execution_count": 17,
   "metadata": {},
   "outputs": [
    {
     "name": "stdout",
     "output_type": "stream",
     "text": [
      "Logging to ckpts/openai_2024_05_05_17_44_20_049463\n",
      "creating models...\n"
     ]
    },
    {
     "ename": "TypeError",
     "evalue": "create_model_and_diffusion() missing 1 required positional argument: 'analog_bit'",
     "output_type": "error",
     "traceback": [
      "\u001b[0;31m---------------------------------------------------------------------------\u001b[0m",
      "\u001b[0;31mTypeError\u001b[0m                                 Traceback (most recent call last)",
      "Cell \u001b[0;32mIn[17], line 36\u001b[0m\n\u001b[1;32m     33\u001b[0m logger\u001b[38;5;241m.\u001b[39mconfigure()\n\u001b[1;32m     34\u001b[0m logger\u001b[38;5;241m.\u001b[39mlog(\u001b[38;5;124m\"\u001b[39m\u001b[38;5;124mcreating models...\u001b[39m\u001b[38;5;124m\"\u001b[39m)\n\u001b[0;32m---> 36\u001b[0m model, diffusion \u001b[38;5;241m=\u001b[39m \u001b[43mcreate_model_and_diffusion\u001b[49m\u001b[43m(\u001b[49m\n\u001b[1;32m     37\u001b[0m \u001b[43m    \u001b[49m\u001b[43minput_channels\u001b[49m\u001b[43m \u001b[49m\u001b[38;5;241;43m=\u001b[39;49m\u001b[43m \u001b[49m\u001b[43minput_channels\u001b[49m\u001b[43m,\u001b[49m\n\u001b[1;32m     38\u001b[0m \u001b[43m    \u001b[49m\u001b[43mcondition_channels\u001b[49m\u001b[43m \u001b[49m\u001b[38;5;241;43m=\u001b[39;49m\u001b[43m \u001b[49m\u001b[43mcondition_channels\u001b[49m\u001b[43m,\u001b[49m\n\u001b[1;32m     39\u001b[0m \u001b[43m    \u001b[49m\u001b[43mnum_channels\u001b[49m\u001b[43m \u001b[49m\u001b[38;5;241;43m=\u001b[39;49m\u001b[43m \u001b[49m\u001b[43mnum_channels\u001b[49m\u001b[43m,\u001b[49m\n\u001b[1;32m     40\u001b[0m \u001b[43m    \u001b[49m\u001b[43mout_channels\u001b[49m\u001b[43m \u001b[49m\u001b[38;5;241;43m=\u001b[39;49m\u001b[43m \u001b[49m\u001b[43mout_channels\u001b[49m\u001b[43m,\u001b[49m\u001b[43m \u001b[49m\n\u001b[1;32m     41\u001b[0m \u001b[43m    \u001b[49m\u001b[43mlearn_sigma\u001b[49m\u001b[43m \u001b[49m\u001b[38;5;241;43m=\u001b[39;49m\u001b[43m \u001b[49m\u001b[38;5;28;43;01mFalse\u001b[39;49;00m\u001b[43m,\u001b[49m\n\u001b[1;32m     42\u001b[0m \u001b[43m    \u001b[49m\u001b[43mdiffusion_steps\u001b[49m\u001b[38;5;241;43m=\u001b[39;49m\u001b[38;5;241;43m1000\u001b[39;49m\u001b[43m,\u001b[49m\n\u001b[1;32m     43\u001b[0m \u001b[43m    \u001b[49m\u001b[43mnoise_schedule\u001b[49m\u001b[38;5;241;43m=\u001b[39;49m\u001b[38;5;124;43m\"\u001b[39;49m\u001b[38;5;124;43mcosine\u001b[39;49m\u001b[38;5;124;43m\"\u001b[39;49m\u001b[43m,\u001b[49m\n\u001b[1;32m     44\u001b[0m \u001b[43m    \u001b[49m\u001b[43mtimestep_respacing\u001b[49m\u001b[38;5;241;43m=\u001b[39;49m\u001b[38;5;124;43m\"\u001b[39;49m\u001b[38;5;124;43m\"\u001b[39;49m\u001b[43m,\u001b[49m\n\u001b[1;32m     45\u001b[0m \u001b[43m    \u001b[49m\u001b[43mpredict_xstart\u001b[49m\u001b[43m \u001b[49m\u001b[38;5;241;43m=\u001b[39;49m\u001b[43m \u001b[49m\u001b[38;5;28;43;01mFalse\u001b[39;49;00m\u001b[43m,\u001b[49m\n\u001b[1;32m     46\u001b[0m \u001b[43m    \u001b[49m\u001b[43mrescale_timesteps\u001b[49m\u001b[43m \u001b[49m\u001b[38;5;241;43m=\u001b[39;49m\u001b[43m \u001b[49m\u001b[38;5;28;43;01mFalse\u001b[39;49;00m\u001b[43m,\u001b[49m\n\u001b[1;32m     47\u001b[0m \u001b[43m    \u001b[49m\u001b[43mrescale_learned_sigmas\u001b[49m\u001b[43m \u001b[49m\u001b[38;5;241;43m=\u001b[39;49m\u001b[43m \u001b[49m\u001b[38;5;28;43;01mFalse\u001b[39;49;00m\n\u001b[1;32m     48\u001b[0m \u001b[43m)\u001b[49m\n\u001b[1;32m     50\u001b[0m model\u001b[38;5;241m.\u001b[39mload_state_dict(\n\u001b[1;32m     51\u001b[0m     dist_util\u001b[38;5;241m.\u001b[39mload_state_dict(MODEL_PATH, map_location\u001b[38;5;241m=\u001b[39m\u001b[38;5;124m\"\u001b[39m\u001b[38;5;124mcpu\u001b[39m\u001b[38;5;124m\"\u001b[39m)\n\u001b[1;32m     52\u001b[0m )\n\u001b[1;32m     54\u001b[0m model\u001b[38;5;241m.\u001b[39mto(dist_util\u001b[38;5;241m.\u001b[39mdev())\n",
      "\u001b[0;31mTypeError\u001b[0m: create_model_and_diffusion() missing 1 required positional argument: 'analog_bit'"
     ]
    }
   ],
   "source": [
    "import argparse\n",
    "\n",
    "from model import dist_util, logger\n",
    "from dataset import load_rplanhg_data\n",
    "from model.sample import create_named_schedule_sampler\n",
    "from util.util import (\n",
    "    create_model_and_diffusion\n",
    ")\n",
    "from model.util import TrainLoop\n",
    "import numpy as np\n",
    "from tqdm import tqdm\n",
    "import webcolors\n",
    "import networkx as nx\n",
    "from collections import defaultdict\n",
    "from shapely.geometry import Polygon\n",
    "from shapely.geometry.base import geom_factory\n",
    "from shapely.geos import lgeos\n",
    "import io\n",
    "import PIL.Image as Image\n",
    "import drawsvg as drawsvg\n",
    "import cairosvg\n",
    "import imageio\n",
    "from image_sample import estimate_graph\n",
    "\n",
    "MODEL_PATH=  \"ckpts/10000steps/model010000.pt\"\n",
    "\n",
    "num_channels = 512\n",
    "num_coords = 2\n",
    "input_channels = 18\n",
    "condition_channels = 89\n",
    "out_channels = num_coords * 1\n",
    "\n",
    "logger.configure()\n",
    "logger.log(\"creating models...\")\n",
    "\n",
    "model, diffusion = create_model_and_diffusion(\n",
    "    analog_bit = False,\n",
    "    input_channels = input_channels,\n",
    "    condition_channels = condition_channels,\n",
    "    num_channels = num_channels,\n",
    "    out_channels = out_channels, \n",
    "    learn_sigma = False,\n",
    "    diffusion_steps=1000,\n",
    "    noise_schedule=\"cosine\",\n",
    "    timestep_respacing=\"\",\n",
    "    predict_xstart = False,\n",
    "    rescale_timesteps = False,\n",
    "    rescale_learned_sigmas = False\n",
    ")\n",
    "\n",
    "model.load_state_dict(\n",
    "    dist_util.load_state_dict(MODEL_PATH, map_location=\"cpu\")\n",
    ")\n",
    "\n",
    "model.to(dist_util.dev())\n",
    "model.eval()\n",
    "\n",
    "ID_COLOR = {1: '#EE4D4D', 2: '#C67C7B', 3: '#FFD274', 4: '#BEBEBE', 5: '#BFE3E8',\n",
    "            6: '#7BA779', 7: '#E87A90', 8: '#FF8C69', 10: '#1F849B', 11: '#727171',\n",
    "            13: '#785A67', 12: '#D3A2C7'}\n",
    "num_room_types = 14\n",
    "data = load_rplanhg_data(\n",
    "    batch_size=128,\n",
    "    analog_bit=False,\n",
    "    set_name=\"eval\",\n",
    "    target_set=8,\n",
    ")\n",
    "graph_errors = []\n",
    "model_kwargs = {}\n",
    "sample_fn = (\n",
    "    diffusion.p_sample_loop \n",
    ")\n",
    "data_sample, model_kwargs = next(data)\n",
    "for key in model_kwargs:\n",
    "    model_kwargs[key] = model_kwargs[key].cuda()\n",
    "\n",
    "sample = sample_fn(\n",
    "    model,\n",
    "    data_sample.shape,\n",
    "    clip_denoised=True,\n",
    "    model_kwargs=model_kwargs\n",
    ")\n",
    "sample_gt = data_sample.cuda().unsqueeze(0)\n",
    "sample = sample.permute([0, 1, 3, 2])\n",
    "sample_gt = sample_gt.permute([0, 1, 3, 2])\n",
    "import os\n",
    "os.makedirs('./outputs/pred', exist_ok=True)\n",
    "os.makedirs('./outputs/gt', exist_ok=True)\n",
    "os.makedirs('./outputs/gif', exist_ok=True)\n",
    "os.makedirs('./outputs/graphs_gt', exist_ok=True)\n",
    "os.makedirs('./outputs/graphs_pred', exist_ok=True)\n",
    "        \n",
    "\n",
    "def visualize_inference(sample, unique_id=-1, calculate_scores = False, dataset_portion = 8):\n",
    "    gifs = []\n",
    "    for i in tqdm(range(sample.shape[1])):\n",
    "        resolution = 256\n",
    "        images = []\n",
    "        images2 = []\n",
    "        images3 = []\n",
    "        for k in range(sample.shape[0]):\n",
    "            # Create \n",
    "            draw = drawsvg.Drawing(resolution, resolution, displayInline=False)\n",
    "            draw.append(drawsvg.Rectangle(0,0,resolution,resolution, fill='black'))\n",
    "            draw2 = drawsvg.Drawing(resolution, resolution, displayInline=False)\n",
    "            draw2.append(drawsvg.Rectangle(0,0,resolution,resolution, fill='black'))\n",
    "            draw3 = drawsvg.Drawing(resolution, resolution, displayInline=False)\n",
    "            draw3.append(drawsvg.Rectangle(0,0,resolution,resolution, fill='black'))\n",
    "            \n",
    "            draw_color = drawsvg.Drawing(resolution, resolution, displayInline=False)\n",
    "            draw_color.append(drawsvg.Rectangle(0,0,resolution,resolution, fill='white'))\n",
    "            polys = []\n",
    "            types = []\n",
    "            for j, point in (enumerate(sample[k][i])):\n",
    "                if model_kwargs[f'src_key_padding_mask'][i][j]==1:\n",
    "                    continue\n",
    "                point = point.cpu().data.numpy()\n",
    "                if j==0:\n",
    "                    poly = []\n",
    "                if j>0 and (model_kwargs[f'room_indices'][i, j]!=model_kwargs[f'room_indices'][i, j-1]).any():\n",
    "                    polys.append(poly)\n",
    "                    types.append(c)\n",
    "                    poly = []\n",
    "                pred_center = False\n",
    "                if pred_center:\n",
    "                    point = point/2 + 1\n",
    "                    point = point * resolution//2\n",
    "                else:\n",
    "                    point = point/2 + 0.5\n",
    "                    point = point * resolution\n",
    "                poly.append((point[0], point[1]))\n",
    "                c = np.argmax(model_kwargs[f'room_types'][i][j-1].cpu().numpy())\n",
    "            polys.append(poly)\n",
    "            types.append(c)\n",
    "            door_indices = [11, 12, 13]\n",
    "            for poly, c in zip(polys, types):\n",
    "                if c in door_indices or c==0:\n",
    "                    continue\n",
    "                room_type = c\n",
    "                c = webcolors.hex_to_rgb(ID_COLOR[c])\n",
    "                draw_color.append(drawsvg.Lines(*np.array(poly).flatten().tolist(), close=True, fill=ID_COLOR[room_type], fill_opacity=1.0, stroke='black', stroke_width=1))\n",
    "                draw.append(drawsvg.Lines(*np.array(poly).flatten().tolist(), close=True, fill='black', fill_opacity=0.0, stroke=webcolors.rgb_to_hex([int(x/2) for x in c]), stroke_width=0.5*(resolution/256)))\n",
    "                draw2.append(drawsvg.Lines(*np.array(poly).flatten().tolist(), close=True, fill=ID_COLOR[room_type], fill_opacity=1.0, stroke=webcolors.rgb_to_hex([int(x/2) for x in c]), stroke_width=0.5*(resolution/256)))\n",
    "                for corner in poly:\n",
    "                    draw.append(drawsvg.Circle(corner[0], corner[1], 2*(resolution/256), fill=ID_COLOR[room_type], fill_opacity=1.0, stroke='gray', stroke_width=0.25))\n",
    "                    draw3.append(drawsvg.Circle(corner[0], corner[1], 2*(resolution/256), fill=ID_COLOR[room_type], fill_opacity=1.0, stroke='gray', stroke_width=0.25))\n",
    "            for poly, c in zip(polys, types):\n",
    "                if c not in door_indices:\n",
    "                    continue\n",
    "                room_type = c\n",
    "                c = webcolors.hex_to_rgb(ID_COLOR[c])\n",
    "                draw_color.append(drawsvg.Lines(*np.array(poly).flatten().tolist(), close=True, fill=ID_COLOR[room_type], fill_opacity=1.0, stroke='black', stroke_width=1))\n",
    "                draw.append(drawsvg.Lines(*np.array(poly).flatten().tolist(), close=True, fill='black', fill_opacity=0.0, stroke=webcolors.rgb_to_hex([int(x/2) for x in c]), stroke_width=0.5*(resolution/256)))\n",
    "                draw2.append(drawsvg.Lines(*np.array(poly).flatten().tolist(), close=True, fill=ID_COLOR[room_type], fill_opacity=1.0, stroke=webcolors.rgb_to_hex([int(x/2) for x in c]), stroke_width=0.5*(resolution/256)))\n",
    "                \n",
    "                for corner in poly:\n",
    "                    draw.append(drawsvg.Circle(corner[0], corner[1], 2*(resolution/256), fill=ID_COLOR[room_type], fill_opacity=1.0, stroke='gray', stroke_width=0.25))\n",
    "                    draw3.append(drawsvg.Circle(corner[0], corner[1], 2*(resolution/256), fill=ID_COLOR[room_type], fill_opacity=1.0, stroke='gray', stroke_width=0.25))\n",
    "            images.append(Image.open(io.BytesIO(cairosvg.svg2png(draw.as_svg()))))\n",
    "            images2.append(Image.open(io.BytesIO(cairosvg.svg2png(draw2.as_svg()))))\n",
    "            images3.append(Image.open(io.BytesIO(cairosvg.svg2png(draw3.as_svg()))))\n",
    "\n",
    "            if k==sample.shape[0]-1:\n",
    "                if 'graph' in model_kwargs:\n",
    "                    graph_errors.append(estimate_graph(i, polys, types, model_kwargs[f'graph'][i], ID_COLOR=ID_COLOR, draw_graph=True, save_svg=True))\n",
    "                else:\n",
    "                    graph_errors.append(0)\n",
    "        \n",
    "        gifs.append(images)\n",
    "        imageio.mimwrite(f'outputs/gif/{i}.gif', images, fps=10, loop=1)\n",
    "        imageio.mimwrite(f'outputs/gif/{i}_v2.gif', images2, fps=10, loop=1)\n",
    "        imageio.mimwrite(f'outputs/gif/{i}_v3.gif', images3, fps=10, loop=1)\n",
    "        if calculate_scores:\n",
    "            Image.open(io.BytesIO(cairosvg.svg2png(draw_color.as_svg()))).save(f'outputs/{dataset_portion}/{i}c_{k}_{unique_id}_{dataset_portion}.png')\n",
    "\n",
    "\n",
    "gif_gt = visualize_inference(sample_gt)\n",
    "gif_sample = visualize_inference(sample)\n",
    "# fid_score = calculate_fid_given_paths(['outputs/gt', 'outputs/pred'], 64, 'cuda', 2048)\n",
    "# print(f'FID: {fid_score}')\n",
    "# print(f'Compatibility: {np.mean(graph_errors)}')\n",
    "# errors.append([fid_score, np.mean(graph_errors)])\n",
    "\n",
    "\n"
   ]
  },
  {
   "cell_type": "markdown",
   "metadata": {},
   "source": [
    "### Viusalize the gifs"
   ]
  },
  {
   "cell_type": "markdown",
   "metadata": {},
   "source": [
    "![CornersLocal](static/0.gif)\n",
    "![RoomsLocal](static/0_v2.gif)"
   ]
  },
  {
   "cell_type": "markdown",
   "metadata": {},
   "source": [
    "### Regenerate the metrics\n",
    "\n",
    "In our proposal we wanted to reproduce following two results:\n",
    "\n",
    "![Qualitative Result](static/quantative_target.png)\n",
    "\n",
    "_Last row of the following table_\n",
    "\n",
    "![Quantative Result](static/table1.png)\n",
    "\n",
    "\n",
    "The qualitative result is given in the preceding cell as a gif. If you think there is a problem with it please contact us.\n",
    "\n",
    "The Diversity field in the table is FID score. This score should be calculated among the test split of the dataset. In the following cell you can see the calculation of this score"
   ]
  },
  {
   "cell_type": "code",
   "execution_count": 38,
   "metadata": {},
   "outputs": [
    {
     "name": "stderr",
     "output_type": "stream",
     "text": [
      "1000it [00:08, 115.85it/s]0<?, ?it/s]\n",
      "100%|██████████| 1/1 [00:00<00:00,  5.48it/s]\n",
      "100%|██████████| 1/1 [00:01<00:00,  1.93s/it]\n",
      "1000it [00:08, 120.32it/s]0<00:32, 10.86s/it]\n",
      "100%|██████████| 1/1 [00:00<00:00,  5.25it/s]\n",
      "100%|██████████| 1/1 [00:01<00:00,  1.91s/it]\n",
      "1000it [00:08, 119.79it/s]1<00:21, 10.65s/it]\n",
      "100%|██████████| 1/1 [00:00<00:00,  5.35it/s]\n",
      "100%|██████████| 1/1 [00:01<00:00,  1.90s/it]\n",
      "1000it [00:08, 119.73it/s]1<00:10, 10.60s/it]\n",
      "100%|██████████| 1/1 [00:00<00:00,  5.42it/s]\n",
      "100%|██████████| 1/1 [00:01<00:00,  1.93s/it]\n",
      "100%|██████████| 4/4 [00:42<00:00, 10.62s/it]\n"
     ]
    },
    {
     "name": "stdout",
     "output_type": "stream",
     "text": [
      "Warning: batch size is bigger than the data size. Setting batch size to data size\n"
     ]
    },
    {
     "name": "stderr",
     "output_type": "stream",
     "text": [
      "100%|██████████| 1/1 [00:00<00:00, 11.50it/s]\n"
     ]
    },
    {
     "name": "stdout",
     "output_type": "stream",
     "text": [
      "Warning: batch size is bigger than the data size. Setting batch size to data size\n"
     ]
    },
    {
     "name": "stderr",
     "output_type": "stream",
     "text": [
      "100%|██████████| 1/1 [00:00<00:00,  8.83it/s]\n"
     ]
    },
    {
     "name": "stdout",
     "output_type": "stream",
     "text": [
      "FID: 215.00051101741315\n"
     ]
    }
   ],
   "source": [
    "from pytorch_fid.fid_score import calculate_fid_given_paths\n",
    "\n",
    "DATASET_SPLIT = 8\n",
    "NUM_POINTS = 4\n",
    "\n",
    "\n",
    "test_dataloader = load_rplanhg_data(\n",
    "    batch_size=128,\n",
    "    set_name=eval,\n",
    "    analog_bit=False,\n",
    "    num_points=NUM_POINTS,\n",
    "    target_set=DATASET_SPLIT)\n",
    "model.eval()\n",
    "\n",
    "graph_errors = []\n",
    "model_kwargs = {}\n",
    "sample_fn = (\n",
    "    diffusion.p_sample_loop \n",
    ")\n",
    "\n",
    "graph_errors = []\n",
    "fid_scores = []\n",
    "for i in tqdm(range(NUM_POINTS)):\n",
    "    data_sample, model_kwargs = next(data)\n",
    "    for key in model_kwargs:\n",
    "        model_kwargs[key] = model_kwargs[key].cuda()\n",
    "\n",
    "    sample = sample_fn(\n",
    "        model,\n",
    "        data_sample.shape,\n",
    "        clip_denoised=True,\n",
    "        model_kwargs=model_kwargs,\n",
    "        analog_bit=False,\n",
    "    )\n",
    "    sample_gt = data_sample.cuda().unsqueeze(0)\n",
    "    sample = sample.permute([0, 1, 3, 2])\n",
    "    sample_gt = sample_gt.permute([0, 1, 3, 2])\n",
    "    \n",
    "    graph_error = visualize_inference(sample_gt, dataset_portion='gt', calculate_scores=True, unique_id = i)\n",
    "    graph_error = visualize_inference(sample, dataset_portion='pred', calculate_scores=True, unique_id = i)\n",
    "fid_score = calculate_fid_given_paths(['./outputs/gt', './outputs/pred'], 64, 'cuda', 2048)\n",
    "print(f'FID: {fid_score}')\n"
   ]
  },
  {
   "cell_type": "markdown",
   "metadata": {},
   "source": [
    "As you see we were able to get the FID score of 215. However this value was ~10 in the paper(diversity column). We are planning to improve this in v2 submission"
   ]
  },
  {
   "cell_type": "markdown",
   "metadata": {},
   "source": [
    "# Challanges and Development Notes\n",
    "\n",
    "1. **Dataset Related Problems**\n",
    "\n",
    "Because the dataset is not directly images we have stumbled upon a lot of difficulties while dealing with it. \n",
    "\n",
    "1.1. Before Loading\n",
    "\n",
    "First as you can see from the paper' s repository they mention that at the data preprocessing step, they are using a [pre-existing repository](https://github.com/sepidsh/Housegan-data-reader). While this repository is useful to load a portion of the data lacks completeness. While we were experimenting with this loader code we saw that, some of the data point given in the [dataset](https://docs.google.com/forms/d/e/1FAIpQLSfwteilXzURRKDI5QopWCyOGkeb_CFFbRwtQ0SOPhEg0KGSfw/viewform) is problematic. In order to overcome this barrirer, we needed to make a lot of update to the given code and skip those entries that still cause problems.\n",
    "\n",
    "Even after overcoming this issue, existing code(the one that converts existing data to json files which is more suitable to load and use it before training) was expected to be executed in ~40 hours. We needed to parallelize this process and at the and we were able to reduce this step to ~5 hours. Then we had access to ~80_000 sample json files\n",
    "\n",
    "1.2 From json to numpy\n",
    "\n",
    "\n",
    "After we solve the preceding problem and convert existing dataset to json files, we needed to solve dataset saving/loading problems. Because we have varying number of rooms or number of vertices in floorplan graphs, we could not save all the information into a numpy compressed file. Because in recent versions of numpy directly saving ragged arrays while preserving data type is not allowed. This step could allow us to skip the preprocess step before training(from json to numpy arrays) however we decided to move on and arrange our code so that each time we train our model, we preprocess from the ground.\n",
    "\n",
    "2. **Model Related Problems**\n",
    "\n",
    "During development of diffusion model(transformer model is being developed but we did not yet encounter a major problem to mention) we have face a lot of problems related to dimensionalities. We overcome the issue by carefully debugging as we make changes in the codebase.\n",
    "\n",
    "3. **Visualization Related Problems**\n",
    "\n",
    "Because our data is visualized as svgs usual ways of displaying images we not suitable in our cases. We needed to make use of a lot of libraries. \n",
    "\n",
    "4. **Training Related Problems**\n",
    "\n",
    "We could not train our model with a large portion of the data. We were able to train with relatively small portion of it (10_000/~60_000) with comparably large number of steps. We have tried this approach because we wanted to make sure the model is learning the way it needs to. When 1_000 step trained model and 10_000 step trained models are compare we can clearly see that model is learning as the # of steps increase. Unfortunately, after we validate everything is working as expected we could not train the model with more data. We are planning to work on this end until v2 submission.\n"
   ]
  },
  {
   "cell_type": "markdown",
   "metadata": {},
   "source": []
  },
  {
   "cell_type": "code",
   "execution_count": null,
   "metadata": {},
   "outputs": [],
   "source": []
  }
 ],
 "metadata": {
  "kernelspec": {
   "display_name": ".venv",
   "language": "python",
   "name": "python3"
  },
  "language_info": {
   "codemirror_mode": {
    "name": "ipython",
    "version": 3
   },
   "file_extension": ".py",
   "mimetype": "text/x-python",
   "name": "python",
   "nbconvert_exporter": "python",
   "pygments_lexer": "ipython3",
   "version": "3.10.12"
  }
 },
 "nbformat": 4,
 "nbformat_minor": 2
}
