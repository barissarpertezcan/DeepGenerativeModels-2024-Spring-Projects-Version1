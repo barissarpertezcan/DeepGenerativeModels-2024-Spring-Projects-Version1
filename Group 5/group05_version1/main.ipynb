{
  "cells": [
    {
      "cell_type": "markdown",
      "metadata": {
        "id": "REyzks404grx"
      },
      "source": [
        "# **Training the Model**"
      ]
    },
    {
      "cell_type": "markdown",
      "metadata": {
        "id": "22VPC8LD8bka"
      },
      "source": [
        "**Code Flow is as follows:**\n",
        "\n",
        "* Train\n",
        "  * Importing Libraries\n",
        "  * Setting Device\n",
        "  * Hyperparameters\n",
        "  * Train\n",
        "* Load Pre-trained Model\n",
        "* Qualitative Results\n",
        "* Quantitative Results "
      ]
    },
    {
      "cell_type": "markdown",
      "metadata": {
        "id": "yVaOuKAL4pPH"
      },
      "source": [
        "## **Importing Libraries**"
      ]
    },
    {
      "cell_type": "code",
      "execution_count": 1,
      "metadata": {
        "id": "0xFVeD288ysI"
      },
      "outputs": [
        {
          "name": "stderr",
          "output_type": "stream",
          "text": [
            "/opt/anaconda3/envs/vaem/lib/python3.10/site-packages/tqdm/auto.py:21: TqdmWarning: IProgress not found. Please update jupyter and ipywidgets. See https://ipywidgets.readthedocs.io/en/stable/user_install.html\n",
            "  from .autonotebook import tqdm as notebook_tqdm\n"
          ]
        }
      ],
      "source": [
        "import os\n",
        "import random\n",
        "from tqdm import tqdm\n",
        "from copy import deepcopy\n",
        "\n",
        "import numpy as np\n",
        "import torch\n",
        "import torch.nn as nn\n",
        "import torch.optim as optim\n",
        "from torch.utils.data import DataLoader\n",
        "import wandb"
      ]
    },
    {
      "cell_type": "code",
      "execution_count": 2,
      "metadata": {
        "id": "RH6FlkLY6BuH"
      },
      "outputs": [],
      "source": [
        "import argparse\n",
        "parser = argparse.ArgumentParser(description= 'Master: Meta Style Transformer for Controllable Zero-Shot and Few-Shot Artistic Style Transfer Implementation')\n",
        "args = parser.parse_args(args=[])"
      ]
    },
    {
      "cell_type": "markdown",
      "metadata": {
        "id": "k7jND37m81Bq"
      },
      "source": [
        "## **Setting Device**"
      ]
    },
    {
      "cell_type": "code",
      "execution_count": 3,
      "metadata": {
        "id": "t1MgutaR6BuI",
        "outputId": "69dd244a-1b79-4270-e0d7-72c5eadb8de7"
      },
      "outputs": [
        {
          "name": "stdout",
          "output_type": "stream",
          "text": [
            "cuda:0\n"
          ]
        }
      ],
      "source": [
        "# Set the device\n",
        "args.device = 'cuda:0' if torch.cuda.is_available() else 'cpu'\n",
        "print(args.device)"
      ]
    },
    {
      "cell_type": "markdown",
      "metadata": {
        "id": "6Ajh6OSU9WcI"
      },
      "source": [
        "## **Hyperparameters**"
      ]
    },
    {
      "cell_type": "code",
      "execution_count": 4,
      "metadata": {
        "id": "6evv_Fh79b36"
      },
      "outputs": [],
      "source": [
        "# Project paths\n",
        "args.project_root = os.getcwd() # The absolute path of the project root directory.\n",
        "args.model_save_path = \"experiments/weights\"  # Default model save path.\n",
        "\n",
        "# Loss model path\n",
        "args.loss_model_path = \"models/vgg_19_last_layer_is_relu_5_1_output.pt\"  # Relative path to the pre-trained VGG19 model cut at the last layer of relu 5_1.\n",
        "args.use_vgg19_with_batchnorm = False  # If true, use the pre-trained VGG19 model with batch normalization.\n",
        "\n",
        "# StyleTransformer parameters\n",
        "args.dim = 256  # Number of input channels.\n",
        "args.input_resolution = [32, 32]  # Dimensions (height, width) of the input feature map.\n",
        "args.num_heads = 8  # Number of attention heads.\n",
        "args.window_size = 8  # Size of the attention window.\n",
        "args.shift_size = 4  # Offset for the cyclic shift within the window attention mechanism.\n",
        "args.mlp_ratio = 4.0  # Expansion ratio for the MLP block compared to the number of input channels.\n",
        "args.act_layer = 'nn.ReLU'  # Activation function used in the MLP block.\n",
        "\n",
        "# SwinEncoder parameters\n",
        "args.encoder_model_path = 'models/swin_B_first_2_stages.pt'  # Path where the Swin model is saved or should be saved.\n",
        "args.freeze_encoder = True  # Freeze the parameters of the model.\n",
        "\n",
        "# Decoder parameters\n",
        "args.init_decoder_with_he = True  # Initialize the decoder with He uniform initialization.\n",
        "\n",
        "# Hyperparameters\n",
        "args.inner_lr = 0.0001  # Inner learning rate (delta)\n",
        "args.outer_lr = 0.0001  # Outer learning rate (eta)\n",
        "args.num_inner_updates = 4  # Number of inner updates (k)\n",
        "args.max_layers = 4  # Maximal number of stacked layers (T)\n",
        "args.lambda_style = 10.0  # Weighting term for style loss (lambda)\n",
        "args.save_every = 25  # Save the model every n iterations\n",
        "\n",
        "# Dataset paths\n",
        "args.coco_dataset_path = \"datasets/coco_train_dataset/train2017\"  # Relative path to the COCO dataset directory.\n",
        "args.wikiart_dataset_path = \"datasets/wikiart/**\"  # Relative path to the Wikiart dataset directory.\n",
        "args.max_iterations = 9000  # Number of iterations to train the model.\n",
        "\n",
        "# DataLoader parameters\n",
        "args.batch_size_style = 1  # Batch size for the style datasets\n",
        "args.batch_size_content = 4  # Batch size for the content dataset\n",
        "args.num_workers = 4  # Number of workers for data loading\n",
        "args.shuffle = True  # Whether to shuffle the dataset\n",
        "args.pin_memory = True  # Whether to pin memory for faster data transfer to CUDA\n",
        "\n",
        "# Seed configuration.\n",
        "args.set_seed = False  # Set seed for reproducibility\n",
        "args.seed = 42  # Seed for reproducibility\n",
        "\n",
        "# wandb configuration.\n",
        "args.use_wandb = False  # Use wandb for logging\n",
        "args.online = False  # Use wandb online\n",
        "args.exp_name = 'master'  # Experiment name\n",
        "\n",
        "# Verbose\n",
        "args.verbose = True  # Print the model information and loss values at each loss calculation."
      ]
    },
    {
      "cell_type": "markdown",
      "metadata": {
        "id": "XhG242FP9HrY"
      },
      "source": [
        "## **Train** "
      ]
    },
    {
      "cell_type": "code",
      "execution_count": 5,
      "metadata": {
        "id": "QffUNOEbKPV0"
      },
      "outputs": [],
      "source": [
        "from train import Train"
      ]
    },
    {
      "cell_type": "code",
      "execution_count": 6,
      "metadata": {},
      "outputs": [
        {
          "name": "stdout",
          "output_type": "stream",
          "text": [
            "StyleTransformer\n",
            "  - encoder.MSA.pos_embeddings: torch.Size([15, 15])\n",
            "  - encoder.MSA.linear1.weight: torch.Size([768, 256])\n",
            "  - encoder.MSA.linear1.bias: torch.Size([768])\n",
            "  - encoder.MSA.linear1_scale.weight: torch.Size([256, 256])\n",
            "  - encoder.MSA.linear1_scale.bias: torch.Size([256])\n",
            "  - encoder.MSA.linear1_shift.weight: torch.Size([256, 256])\n",
            "  - encoder.MSA.linear1_shift.bias: torch.Size([256])\n",
            "  - encoder.MSA.linear2.weight: torch.Size([256, 256])\n",
            "  - encoder.MSA.linear2.bias: torch.Size([256])\n",
            "  - encoder.MSA.linear2_scale.weight: torch.Size([256, 256])\n",
            "  - encoder.MSA.linear2_scale.bias: torch.Size([256])\n",
            "  - encoder.MSA.linear2_shift.weight: torch.Size([256, 256])\n",
            "  - encoder.MSA.linear2_shift.bias: torch.Size([256])\n",
            "  - encoder.MLP_key.fc1.weight: torch.Size([1024, 256])\n",
            "  - encoder.MLP_key.fc1.bias: torch.Size([1024])\n",
            "  - encoder.MLP_key.fc2.weight: torch.Size([256, 1024])\n",
            "  - encoder.MLP_key.fc2.bias: torch.Size([256])\n",
            "  - encoder.MLP_scale.fc1.weight: torch.Size([1024, 256])\n",
            "  - encoder.MLP_scale.fc1.bias: torch.Size([1024])\n",
            "  - encoder.MLP_scale.fc2.weight: torch.Size([256, 1024])\n",
            "  - encoder.MLP_scale.fc2.bias: torch.Size([256])\n",
            "  - encoder.MLP_shift.fc1.weight: torch.Size([1024, 256])\n",
            "  - encoder.MLP_shift.fc1.bias: torch.Size([1024])\n",
            "  - encoder.MLP_shift.fc2.weight: torch.Size([256, 1024])\n",
            "  - encoder.MLP_shift.fc2.bias: torch.Size([256])\n",
            "  - decoder.MSA.pos_embeddings: torch.Size([15, 15])\n",
            "  - decoder.MSA.linear1.weight: torch.Size([768, 256])\n",
            "  - decoder.MSA.linear1.bias: torch.Size([768])\n",
            "  - decoder.MSA.linear2.weight: torch.Size([256, 256])\n",
            "  - decoder.MSA.linear2.bias: torch.Size([256])\n",
            "  - decoder.CMSA.pos_embeddings: torch.Size([15, 15])\n",
            "  - decoder.CMSA.linear1.weight: torch.Size([256, 256])\n",
            "  - decoder.CMSA.linear1.bias: torch.Size([256])\n",
            "  - decoder.CMSA.linear2.weight: torch.Size([256, 256])\n",
            "  - decoder.CMSA.linear2.bias: torch.Size([256])\n",
            "  - decoder.CMSA.linear_scale.weight: torch.Size([256, 256])\n",
            "  - decoder.CMSA.linear_scale.bias: torch.Size([256])\n",
            "  - decoder.CMSA.linear_shift.weight: torch.Size([256, 256])\n",
            "  - decoder.CMSA.linear_shift.bias: torch.Size([256])\n",
            "  - decoder.CMSA.linear_scale_out.weight: torch.Size([256, 256])\n",
            "  - decoder.CMSA.linear_scale_out.bias: torch.Size([256])\n",
            "  - decoder.CMSA.linear_shift_out.weight: torch.Size([256, 256])\n",
            "  - decoder.CMSA.linear_shift_out.bias: torch.Size([256])\n",
            "  - decoder.MLP_out.fc1.weight: torch.Size([1024, 256])\n",
            "  - decoder.MLP_out.fc1.bias: torch.Size([1024])\n",
            "  - decoder.MLP_out.fc2.weight: torch.Size([256, 1024])\n",
            "  - decoder.MLP_out.fc2.bias: torch.Size([256])\n",
            "Total number of parameters: 3287203\n",
            "\n",
            "\n",
            "SwinEncoder\n",
            "  - model.0.0.weight: torch.Size([128, 3, 4, 4])\n",
            "  - model.0.0.bias: torch.Size([128])\n",
            "  - model.0.2.weight: torch.Size([128])\n",
            "  - model.0.2.bias: torch.Size([128])\n",
            "  - model.1.0.norm1.weight: torch.Size([128])\n",
            "  - model.1.0.norm1.bias: torch.Size([128])\n",
            "  - model.1.0.attn.relative_position_bias_table: torch.Size([169, 4])\n",
            "  - model.1.0.attn.qkv.weight: torch.Size([384, 128])\n",
            "  - model.1.0.attn.qkv.bias: torch.Size([384])\n",
            "  - model.1.0.attn.proj.weight: torch.Size([128, 128])\n",
            "  - model.1.0.attn.proj.bias: torch.Size([128])\n",
            "  - model.1.0.norm2.weight: torch.Size([128])\n",
            "  - model.1.0.norm2.bias: torch.Size([128])\n",
            "  - model.1.0.mlp.0.weight: torch.Size([512, 128])\n",
            "  - model.1.0.mlp.0.bias: torch.Size([512])\n",
            "  - model.1.0.mlp.3.weight: torch.Size([128, 512])\n",
            "  - model.1.0.mlp.3.bias: torch.Size([128])\n",
            "  - model.1.1.norm1.weight: torch.Size([128])\n",
            "  - model.1.1.norm1.bias: torch.Size([128])\n",
            "  - model.1.1.attn.relative_position_bias_table: torch.Size([169, 4])\n",
            "  - model.1.1.attn.qkv.weight: torch.Size([384, 128])\n",
            "  - model.1.1.attn.qkv.bias: torch.Size([384])\n",
            "  - model.1.1.attn.proj.weight: torch.Size([128, 128])\n",
            "  - model.1.1.attn.proj.bias: torch.Size([128])\n",
            "  - model.1.1.norm2.weight: torch.Size([128])\n",
            "  - model.1.1.norm2.bias: torch.Size([128])\n",
            "  - model.1.1.mlp.0.weight: torch.Size([512, 128])\n",
            "  - model.1.1.mlp.0.bias: torch.Size([512])\n",
            "  - model.1.1.mlp.3.weight: torch.Size([128, 512])\n",
            "  - model.1.1.mlp.3.bias: torch.Size([128])\n",
            "  - model.2.reduction.weight: torch.Size([256, 512])\n",
            "  - model.2.norm.weight: torch.Size([512])\n",
            "  - model.2.norm.bias: torch.Size([512])\n",
            "  - model.3.0.norm1.weight: torch.Size([256])\n",
            "  - model.3.0.norm1.bias: torch.Size([256])\n",
            "  - model.3.0.attn.relative_position_bias_table: torch.Size([169, 8])\n",
            "  - model.3.0.attn.qkv.weight: torch.Size([768, 256])\n",
            "  - model.3.0.attn.qkv.bias: torch.Size([768])\n",
            "  - model.3.0.attn.proj.weight: torch.Size([256, 256])\n",
            "  - model.3.0.attn.proj.bias: torch.Size([256])\n",
            "  - model.3.0.norm2.weight: torch.Size([256])\n",
            "  - model.3.0.norm2.bias: torch.Size([256])\n",
            "  - model.3.0.mlp.0.weight: torch.Size([1024, 256])\n",
            "  - model.3.0.mlp.0.bias: torch.Size([1024])\n",
            "  - model.3.0.mlp.3.weight: torch.Size([256, 1024])\n",
            "  - model.3.0.mlp.3.bias: torch.Size([256])\n",
            "  - model.3.1.norm1.weight: torch.Size([256])\n",
            "  - model.3.1.norm1.bias: torch.Size([256])\n",
            "  - model.3.1.attn.relative_position_bias_table: torch.Size([169, 8])\n",
            "  - model.3.1.attn.qkv.weight: torch.Size([768, 256])\n",
            "  - model.3.1.attn.qkv.bias: torch.Size([768])\n",
            "  - model.3.1.attn.proj.weight: torch.Size([256, 256])\n",
            "  - model.3.1.attn.proj.bias: torch.Size([256])\n",
            "  - model.3.1.norm2.weight: torch.Size([256])\n",
            "  - model.3.1.norm2.bias: torch.Size([256])\n",
            "  - model.3.1.mlp.0.weight: torch.Size([1024, 256])\n",
            "  - model.3.1.mlp.0.bias: torch.Size([1024])\n",
            "  - model.3.1.mlp.3.weight: torch.Size([256, 1024])\n",
            "  - model.3.1.mlp.3.bias: torch.Size([256])\n",
            "Total number of parameters: 2118744\n",
            "\n",
            "\n",
            "StyleDecoder\n",
            "  - decoder.0.weight: torch.Size([128, 256, 3, 3])\n",
            "  - decoder.0.bias: torch.Size([128])\n",
            "  - decoder.3.weight: torch.Size([128, 128, 3, 3])\n",
            "  - decoder.3.bias: torch.Size([128])\n",
            "  - decoder.5.weight: torch.Size([128, 128, 3, 3])\n",
            "  - decoder.5.bias: torch.Size([128])\n",
            "  - decoder.7.weight: torch.Size([128, 128, 3, 3])\n",
            "  - decoder.7.bias: torch.Size([128])\n",
            "  - decoder.9.weight: torch.Size([64, 128, 3, 3])\n",
            "  - decoder.9.bias: torch.Size([64])\n",
            "  - decoder.12.weight: torch.Size([64, 64, 3, 3])\n",
            "  - decoder.12.bias: torch.Size([64])\n",
            "  - decoder.14.weight: torch.Size([32, 64, 3, 3])\n",
            "  - decoder.14.bias: torch.Size([32])\n",
            "  - decoder.17.weight: torch.Size([32, 32, 3, 3])\n",
            "  - decoder.17.bias: torch.Size([32])\n",
            "  - decoder.19.weight: torch.Size([3, 32, 3, 3])\n",
            "  - decoder.19.bias: torch.Size([3])\n",
            "Total number of parameters: 877091\n",
            "\n",
            "\n"
          ]
        },
        {
          "name": "stderr",
          "output_type": "stream",
          "text": [
            "  0%|          | 0/9000 [00:00<?, ?it/s]"
          ]
        },
        {
          "name": "stdout",
          "output_type": "stream",
          "text": [
            "Iteration:          1/9000\n",
            "Inner Loop     1/4 - Total Loss: 88.00, Content Loss: 7.34, Style Loss: 8.07\n",
            "Inner Loop     2/4 - Total Loss: 73.52, Content Loss: 7.45, Style Loss: 6.61\n",
            "Inner Loop     3/4 - Total Loss: 63.16, Content Loss: 7.43, Style Loss: 5.57\n"
          ]
        },
        {
          "name": "stderr",
          "output_type": "stream",
          "text": [
            "  0%|          | 1/9000 [00:03<9:46:35,  3.91s/it]"
          ]
        },
        {
          "name": "stdout",
          "output_type": "stream",
          "text": [
            "Inner Loop     4/4 - Total Loss: 60.92, Content Loss: 7.44, Style Loss: 5.35\n",
            "\n",
            "\n",
            "\n",
            "Iteration:          2/9000\n",
            "Inner Loop     1/4 - Total Loss: 277.47, Content Loss: 7.35, Style Loss: 27.01\n",
            "Inner Loop     2/4 - Total Loss: 268.20, Content Loss: 7.41, Style Loss: 26.08\n",
            "Inner Loop     3/4 - Total Loss: 259.83, Content Loss: 7.31, Style Loss: 25.25\n",
            "Inner Loop     4/4 - Total Loss: 246.13, Content Loss: 7.49, Style Loss: 23.86\n"
          ]
        },
        {
          "name": "stderr",
          "output_type": "stream",
          "text": [
            "  0%|          | 2/9000 [00:04<5:15:25,  2.10s/it]"
          ]
        },
        {
          "name": "stdout",
          "output_type": "stream",
          "text": [
            "\n",
            "\n",
            "\n",
            "Iteration:          3/9000\n",
            "Inner Loop     1/4 - Total Loss: 200.63, Content Loss: 7.33, Style Loss: 19.33\n",
            "Inner Loop     2/4 - Total Loss: 104.93, Content Loss: 7.38, Style Loss: 9.76\n",
            "Inner Loop     3/4 - Total Loss: 90.43, Content Loss: 7.30, Style Loss: 8.31\n"
          ]
        },
        {
          "name": "stderr",
          "output_type": "stream",
          "text": [
            "  0%|          | 3/9000 [00:05<3:46:41,  1.51s/it]"
          ]
        },
        {
          "name": "stdout",
          "output_type": "stream",
          "text": [
            "Inner Loop     4/4 - Total Loss: 74.06, Content Loss: 7.41, Style Loss: 6.66\n",
            "\n",
            "\n",
            "\n",
            "Iteration:          4/9000\n",
            "Inner Loop     1/4 - Total Loss: 160.60, Content Loss: 7.33, Style Loss: 15.33\n",
            "Inner Loop     2/4 - Total Loss: 131.60, Content Loss: 7.39, Style Loss: 12.42\n",
            "Inner Loop     3/4 - Total Loss: 131.34, Content Loss: 7.37, Style Loss: 12.40\n"
          ]
        },
        {
          "name": "stderr",
          "output_type": "stream",
          "text": [
            "  0%|          | 4/9000 [00:06<2:52:55,  1.15s/it]"
          ]
        },
        {
          "name": "stdout",
          "output_type": "stream",
          "text": [
            "Inner Loop     4/4 - Total Loss: 131.95, Content Loss: 7.38, Style Loss: 12.46\n",
            "\n",
            "\n",
            "\n",
            "Iteration:          5/9000\n",
            "Inner Loop     1/4 - Total Loss: 111.68, Content Loss: 7.29, Style Loss: 10.44\n"
          ]
        },
        {
          "name": "stderr",
          "output_type": "stream",
          "text": [
            "  0%|          | 4/9000 [00:06<4:02:00,  1.61s/it]"
          ]
        },
        {
          "name": "stdout",
          "output_type": "stream",
          "text": [
            "Inner Loop     2/4 - Total Loss: 103.98, Content Loss: 7.33, Style Loss: 9.66\n"
          ]
        },
        {
          "name": "stderr",
          "output_type": "stream",
          "text": [
            "\n"
          ]
        },
        {
          "ename": "KeyboardInterrupt",
          "evalue": "",
          "output_type": "error",
          "traceback": [
            "\u001b[0;31m---------------------------------------------------------------------------\u001b[0m",
            "\u001b[0;31mKeyboardInterrupt\u001b[0m                         Traceback (most recent call last)",
            "Cell \u001b[0;32mIn[6], line 3\u001b[0m\n\u001b[1;32m      1\u001b[0m \u001b[38;5;66;03m# Train the model\u001b[39;00m\n\u001b[1;32m      2\u001b[0m trainer \u001b[38;5;241m=\u001b[39m Train(args)\n\u001b[0;32m----> 3\u001b[0m \u001b[43mtrainer\u001b[49m\u001b[38;5;241;43m.\u001b[39;49m\u001b[43mtrain\u001b[49m\u001b[43m(\u001b[49m\u001b[43m)\u001b[49m\n",
            "File \u001b[0;32m~/vaem/vaemaster/train.py:257\u001b[0m, in \u001b[0;36mTrain.train\u001b[0;34m(self)\u001b[0m\n\u001b[1;32m    254\u001b[0m     encoded_style \u001b[38;5;241m=\u001b[39m \u001b[38;5;28mself\u001b[39m\u001b[38;5;241m.\u001b[39mswin_encoder(style_image_batch)\n\u001b[1;32m    256\u001b[0m \u001b[38;5;66;03m# style transfer using the style transformer with omega parameters, not the self.style_transformer\u001b[39;00m\n\u001b[0;32m--> 257\u001b[0m transformed_output \u001b[38;5;241m=\u001b[39m \u001b[43momega_style_transformer\u001b[49m\u001b[43m(\u001b[49m\u001b[43mencoded_content\u001b[49m\u001b[43m,\u001b[49m\u001b[43m \u001b[49m\u001b[43mencoded_style\u001b[49m\u001b[43m,\u001b[49m\u001b[43m \u001b[49m\u001b[43mnum_layers\u001b[49m\u001b[43m)\u001b[49m\n\u001b[1;32m    258\u001b[0m transformed_output \u001b[38;5;241m=\u001b[39m transformed_output\u001b[38;5;241m.\u001b[39mpermute(\u001b[38;5;241m0\u001b[39m, \u001b[38;5;241m3\u001b[39m, \u001b[38;5;241m1\u001b[39m, \u001b[38;5;241m2\u001b[39m)\n\u001b[1;32m    260\u001b[0m \u001b[38;5;66;03m# Decode the transformed output with omega parameters, not the self.decoder\u001b[39;00m\n",
            "File \u001b[0;32m/opt/anaconda3/envs/vaem/lib/python3.10/site-packages/torch/nn/modules/module.py:1194\u001b[0m, in \u001b[0;36mModule._call_impl\u001b[0;34m(self, *input, **kwargs)\u001b[0m\n\u001b[1;32m   1190\u001b[0m \u001b[38;5;66;03m# If we don't have any hooks, we want to skip the rest of the logic in\u001b[39;00m\n\u001b[1;32m   1191\u001b[0m \u001b[38;5;66;03m# this function, and just call forward.\u001b[39;00m\n\u001b[1;32m   1192\u001b[0m \u001b[38;5;28;01mif\u001b[39;00m \u001b[38;5;129;01mnot\u001b[39;00m (\u001b[38;5;28mself\u001b[39m\u001b[38;5;241m.\u001b[39m_backward_hooks \u001b[38;5;129;01mor\u001b[39;00m \u001b[38;5;28mself\u001b[39m\u001b[38;5;241m.\u001b[39m_forward_hooks \u001b[38;5;129;01mor\u001b[39;00m \u001b[38;5;28mself\u001b[39m\u001b[38;5;241m.\u001b[39m_forward_pre_hooks \u001b[38;5;129;01mor\u001b[39;00m _global_backward_hooks\n\u001b[1;32m   1193\u001b[0m         \u001b[38;5;129;01mor\u001b[39;00m _global_forward_hooks \u001b[38;5;129;01mor\u001b[39;00m _global_forward_pre_hooks):\n\u001b[0;32m-> 1194\u001b[0m     \u001b[38;5;28;01mreturn\u001b[39;00m \u001b[43mforward_call\u001b[49m\u001b[43m(\u001b[49m\u001b[38;5;241;43m*\u001b[39;49m\u001b[38;5;28;43minput\u001b[39;49m\u001b[43m,\u001b[49m\u001b[43m \u001b[49m\u001b[38;5;241;43m*\u001b[39;49m\u001b[38;5;241;43m*\u001b[39;49m\u001b[43mkwargs\u001b[49m\u001b[43m)\u001b[49m\n\u001b[1;32m   1195\u001b[0m \u001b[38;5;66;03m# Do not call functions when jit is used\u001b[39;00m\n\u001b[1;32m   1196\u001b[0m full_backward_hooks, non_full_backward_hooks \u001b[38;5;241m=\u001b[39m [], []\n",
            "File \u001b[0;32m~/vaem/vaemaster/codes/models.py:53\u001b[0m, in \u001b[0;36mStyleTransformer.forward\u001b[0;34m(self, content, style, num_steps)\u001b[0m\n\u001b[1;32m     50\u001b[0m shift \u001b[38;5;241m=\u001b[39m style\u001b[38;5;241m.\u001b[39mclone()  \u001b[38;5;66;03m# Initialize shift from style\u001b[39;00m\n\u001b[1;32m     52\u001b[0m \u001b[38;5;28;01mfor\u001b[39;00m _ \u001b[38;5;129;01min\u001b[39;00m \u001b[38;5;28mrange\u001b[39m(num_steps):\n\u001b[0;32m---> 53\u001b[0m     style, scale, shift \u001b[38;5;241m=\u001b[39m \u001b[38;5;28;43mself\u001b[39;49m\u001b[38;5;241;43m.\u001b[39;49m\u001b[43mencoder\u001b[49m\u001b[43m(\u001b[49m\u001b[43mstyle\u001b[49m\u001b[43m,\u001b[49m\u001b[43m \u001b[49m\u001b[43mscale\u001b[49m\u001b[43m,\u001b[49m\u001b[43m \u001b[49m\u001b[43mshift\u001b[49m\u001b[43m)\u001b[49m\n\u001b[1;32m     54\u001b[0m     content \u001b[38;5;241m=\u001b[39m \u001b[38;5;28mself\u001b[39m\u001b[38;5;241m.\u001b[39mdecoder(content, style, scale, shift)\n\u001b[1;32m     56\u001b[0m \u001b[38;5;66;03m# change the shape of content to (B, H, W, C) from (B, H*w, C)\u001b[39;00m\n",
            "File \u001b[0;32m/opt/anaconda3/envs/vaem/lib/python3.10/site-packages/torch/nn/modules/module.py:1194\u001b[0m, in \u001b[0;36mModule._call_impl\u001b[0;34m(self, *input, **kwargs)\u001b[0m\n\u001b[1;32m   1190\u001b[0m \u001b[38;5;66;03m# If we don't have any hooks, we want to skip the rest of the logic in\u001b[39;00m\n\u001b[1;32m   1191\u001b[0m \u001b[38;5;66;03m# this function, and just call forward.\u001b[39;00m\n\u001b[1;32m   1192\u001b[0m \u001b[38;5;28;01mif\u001b[39;00m \u001b[38;5;129;01mnot\u001b[39;00m (\u001b[38;5;28mself\u001b[39m\u001b[38;5;241m.\u001b[39m_backward_hooks \u001b[38;5;129;01mor\u001b[39;00m \u001b[38;5;28mself\u001b[39m\u001b[38;5;241m.\u001b[39m_forward_hooks \u001b[38;5;129;01mor\u001b[39;00m \u001b[38;5;28mself\u001b[39m\u001b[38;5;241m.\u001b[39m_forward_pre_hooks \u001b[38;5;129;01mor\u001b[39;00m _global_backward_hooks\n\u001b[1;32m   1193\u001b[0m         \u001b[38;5;129;01mor\u001b[39;00m _global_forward_hooks \u001b[38;5;129;01mor\u001b[39;00m _global_forward_pre_hooks):\n\u001b[0;32m-> 1194\u001b[0m     \u001b[38;5;28;01mreturn\u001b[39;00m \u001b[43mforward_call\u001b[49m\u001b[43m(\u001b[49m\u001b[38;5;241;43m*\u001b[39;49m\u001b[38;5;28;43minput\u001b[39;49m\u001b[43m,\u001b[49m\u001b[43m \u001b[49m\u001b[38;5;241;43m*\u001b[39;49m\u001b[38;5;241;43m*\u001b[39;49m\u001b[43mkwargs\u001b[49m\u001b[43m)\u001b[49m\n\u001b[1;32m   1195\u001b[0m \u001b[38;5;66;03m# Do not call functions when jit is used\u001b[39;00m\n\u001b[1;32m   1196\u001b[0m full_backward_hooks, non_full_backward_hooks \u001b[38;5;241m=\u001b[39m [], []\n",
            "File \u001b[0;32m~/vaem/vaemaster/codes/layers.py:457\u001b[0m, in \u001b[0;36mStyleTransformerEncoder.forward\u001b[0;34m(self, key, scale, shift)\u001b[0m\n\u001b[1;32m    454\u001b[0m shift_shortcut \u001b[38;5;241m=\u001b[39m shift\n\u001b[1;32m    456\u001b[0m \u001b[38;5;66;03m# Apply multi-head self-attention (MSA)\u001b[39;00m\n\u001b[0;32m--> 457\u001b[0m key, scale, shift \u001b[38;5;241m=\u001b[39m \u001b[38;5;28;43mself\u001b[39;49m\u001b[38;5;241;43m.\u001b[39;49m\u001b[43mMSA\u001b[49m\u001b[43m(\u001b[49m\u001b[43mkey\u001b[49m\u001b[43m,\u001b[49m\u001b[43m \u001b[49m\u001b[43mscale\u001b[49m\u001b[43m,\u001b[49m\u001b[43m \u001b[49m\u001b[43mshift\u001b[49m\u001b[43m)\u001b[49m\n\u001b[1;32m    459\u001b[0m \u001b[38;5;66;03m# Add the residual connections\u001b[39;00m\n\u001b[1;32m    460\u001b[0m key \u001b[38;5;241m=\u001b[39m key \u001b[38;5;241m+\u001b[39m key_shortcut\n",
            "File \u001b[0;32m/opt/anaconda3/envs/vaem/lib/python3.10/site-packages/torch/nn/modules/module.py:1194\u001b[0m, in \u001b[0;36mModule._call_impl\u001b[0;34m(self, *input, **kwargs)\u001b[0m\n\u001b[1;32m   1190\u001b[0m \u001b[38;5;66;03m# If we don't have any hooks, we want to skip the rest of the logic in\u001b[39;00m\n\u001b[1;32m   1191\u001b[0m \u001b[38;5;66;03m# this function, and just call forward.\u001b[39;00m\n\u001b[1;32m   1192\u001b[0m \u001b[38;5;28;01mif\u001b[39;00m \u001b[38;5;129;01mnot\u001b[39;00m (\u001b[38;5;28mself\u001b[39m\u001b[38;5;241m.\u001b[39m_backward_hooks \u001b[38;5;129;01mor\u001b[39;00m \u001b[38;5;28mself\u001b[39m\u001b[38;5;241m.\u001b[39m_forward_hooks \u001b[38;5;129;01mor\u001b[39;00m \u001b[38;5;28mself\u001b[39m\u001b[38;5;241m.\u001b[39m_forward_pre_hooks \u001b[38;5;129;01mor\u001b[39;00m _global_backward_hooks\n\u001b[1;32m   1193\u001b[0m         \u001b[38;5;129;01mor\u001b[39;00m _global_forward_hooks \u001b[38;5;129;01mor\u001b[39;00m _global_forward_pre_hooks):\n\u001b[0;32m-> 1194\u001b[0m     \u001b[38;5;28;01mreturn\u001b[39;00m \u001b[43mforward_call\u001b[49m\u001b[43m(\u001b[49m\u001b[38;5;241;43m*\u001b[39;49m\u001b[38;5;28;43minput\u001b[39;49m\u001b[43m,\u001b[49m\u001b[43m \u001b[49m\u001b[38;5;241;43m*\u001b[39;49m\u001b[38;5;241;43m*\u001b[39;49m\u001b[43mkwargs\u001b[49m\u001b[43m)\u001b[49m\n\u001b[1;32m   1195\u001b[0m \u001b[38;5;66;03m# Do not call functions when jit is used\u001b[39;00m\n\u001b[1;32m   1196\u001b[0m full_backward_hooks, non_full_backward_hooks \u001b[38;5;241m=\u001b[39m [], []\n",
            "File \u001b[0;32m~/vaem/vaemaster/codes/layers.py:273\u001b[0m, in \u001b[0;36mEncoderSelfMSA.forward\u001b[0;34m(self, x, scale, shift)\u001b[0m\n\u001b[1;32m    269\u001b[0m scale \u001b[38;5;241m=\u001b[39m rearrange(wei_scale, \u001b[38;5;124m'\u001b[39m\u001b[38;5;124mb H Wh Ww (w1 w2) e -> b (Wh w1) (Ww w2) (H e)\u001b[39m\u001b[38;5;124m'\u001b[39m,\n\u001b[1;32m    270\u001b[0m                   w1\u001b[38;5;241m=\u001b[39m\u001b[38;5;28mself\u001b[39m\u001b[38;5;241m.\u001b[39mwindow_size, w2\u001b[38;5;241m=\u001b[39m\u001b[38;5;28mself\u001b[39m\u001b[38;5;241m.\u001b[39mwindow_size, H\u001b[38;5;241m=\u001b[39m\u001b[38;5;28mself\u001b[39m\u001b[38;5;241m.\u001b[39mnum_heads)\n\u001b[1;32m    271\u001b[0m scale \u001b[38;5;241m=\u001b[39m rearrange(scale, \u001b[38;5;124m'\u001b[39m\u001b[38;5;124mb h w c -> b (h w) c\u001b[39m\u001b[38;5;124m'\u001b[39m)\n\u001b[0;32m--> 273\u001b[0m shift \u001b[38;5;241m=\u001b[39m \u001b[43mrearrange\u001b[49m\u001b[43m(\u001b[49m\u001b[43mwei_shift\u001b[49m\u001b[43m,\u001b[49m\u001b[43m \u001b[49m\u001b[38;5;124;43m'\u001b[39;49m\u001b[38;5;124;43mb H Wh Ww (w1 w2) e -> b (Wh w1) (Ww w2) (H e)\u001b[39;49m\u001b[38;5;124;43m'\u001b[39;49m\u001b[43m,\u001b[49m\n\u001b[1;32m    274\u001b[0m \u001b[43m                  \u001b[49m\u001b[43mw1\u001b[49m\u001b[38;5;241;43m=\u001b[39;49m\u001b[38;5;28;43mself\u001b[39;49m\u001b[38;5;241;43m.\u001b[39;49m\u001b[43mwindow_size\u001b[49m\u001b[43m,\u001b[49m\u001b[43m \u001b[49m\u001b[43mw2\u001b[49m\u001b[38;5;241;43m=\u001b[39;49m\u001b[38;5;28;43mself\u001b[39;49m\u001b[38;5;241;43m.\u001b[39;49m\u001b[43mwindow_size\u001b[49m\u001b[43m,\u001b[49m\u001b[43m \u001b[49m\u001b[43mH\u001b[49m\u001b[38;5;241;43m=\u001b[39;49m\u001b[38;5;28;43mself\u001b[39;49m\u001b[38;5;241;43m.\u001b[39;49m\u001b[43mnum_heads\u001b[49m\u001b[43m)\u001b[49m\n\u001b[1;32m    275\u001b[0m shift \u001b[38;5;241m=\u001b[39m rearrange(shift, \u001b[38;5;124m'\u001b[39m\u001b[38;5;124mb h w c -> b (h w) c\u001b[39m\u001b[38;5;124m'\u001b[39m)\n\u001b[1;32m    277\u001b[0m \u001b[38;5;66;03m# Apply final linear projection\u001b[39;00m\n",
            "File \u001b[0;32m/opt/anaconda3/envs/vaem/lib/python3.10/site-packages/einops/einops.py:591\u001b[0m, in \u001b[0;36mrearrange\u001b[0;34m(tensor, pattern, **axes_lengths)\u001b[0m\n\u001b[1;32m    536\u001b[0m \u001b[38;5;28;01mdef\u001b[39;00m \u001b[38;5;21mrearrange\u001b[39m(tensor: Union[Tensor, List[Tensor]], pattern: \u001b[38;5;28mstr\u001b[39m, \u001b[38;5;241m*\u001b[39m\u001b[38;5;241m*\u001b[39maxes_lengths) \u001b[38;5;241m-\u001b[39m\u001b[38;5;241m>\u001b[39m Tensor:\n\u001b[1;32m    537\u001b[0m \u001b[38;5;250m    \u001b[39m\u001b[38;5;124;03m\"\"\"\u001b[39;00m\n\u001b[1;32m    538\u001b[0m \u001b[38;5;124;03m    einops.rearrange is a reader-friendly smart element reordering for multidimensional tensors.\u001b[39;00m\n\u001b[1;32m    539\u001b[0m \u001b[38;5;124;03m    This operation includes functionality of transpose (axes permutation), reshape (view), squeeze, unsqueeze,\u001b[39;00m\n\u001b[0;32m   (...)\u001b[0m\n\u001b[1;32m    589\u001b[0m \n\u001b[1;32m    590\u001b[0m \u001b[38;5;124;03m    \"\"\"\u001b[39;00m\n\u001b[0;32m--> 591\u001b[0m     \u001b[38;5;28;01mreturn\u001b[39;00m \u001b[43mreduce\u001b[49m\u001b[43m(\u001b[49m\u001b[43mtensor\u001b[49m\u001b[43m,\u001b[49m\u001b[43m \u001b[49m\u001b[43mpattern\u001b[49m\u001b[43m,\u001b[49m\u001b[43m \u001b[49m\u001b[43mreduction\u001b[49m\u001b[38;5;241;43m=\u001b[39;49m\u001b[38;5;124;43m\"\u001b[39;49m\u001b[38;5;124;43mrearrange\u001b[39;49m\u001b[38;5;124;43m\"\u001b[39;49m\u001b[43m,\u001b[49m\u001b[43m \u001b[49m\u001b[38;5;241;43m*\u001b[39;49m\u001b[38;5;241;43m*\u001b[39;49m\u001b[43maxes_lengths\u001b[49m\u001b[43m)\u001b[49m\n",
            "File \u001b[0;32m/opt/anaconda3/envs/vaem/lib/python3.10/site-packages/einops/einops.py:523\u001b[0m, in \u001b[0;36mreduce\u001b[0;34m(tensor, pattern, reduction, **axes_lengths)\u001b[0m\n\u001b[1;32m    521\u001b[0m     shape \u001b[38;5;241m=\u001b[39m backend\u001b[38;5;241m.\u001b[39mshape(tensor)\n\u001b[1;32m    522\u001b[0m     recipe \u001b[38;5;241m=\u001b[39m _prepare_transformation_recipe(pattern, reduction, axes_names\u001b[38;5;241m=\u001b[39m\u001b[38;5;28mtuple\u001b[39m(axes_lengths), ndim\u001b[38;5;241m=\u001b[39m\u001b[38;5;28mlen\u001b[39m(shape))\n\u001b[0;32m--> 523\u001b[0m     \u001b[38;5;28;01mreturn\u001b[39;00m \u001b[43m_apply_recipe\u001b[49m\u001b[43m(\u001b[49m\n\u001b[1;32m    524\u001b[0m \u001b[43m        \u001b[49m\u001b[43mbackend\u001b[49m\u001b[43m,\u001b[49m\u001b[43m \u001b[49m\u001b[43mrecipe\u001b[49m\u001b[43m,\u001b[49m\u001b[43m \u001b[49m\u001b[43mcast\u001b[49m\u001b[43m(\u001b[49m\u001b[43mTensor\u001b[49m\u001b[43m,\u001b[49m\u001b[43m \u001b[49m\u001b[43mtensor\u001b[49m\u001b[43m)\u001b[49m\u001b[43m,\u001b[49m\u001b[43m \u001b[49m\u001b[43mreduction_type\u001b[49m\u001b[38;5;241;43m=\u001b[39;49m\u001b[43mreduction\u001b[49m\u001b[43m,\u001b[49m\u001b[43m \u001b[49m\u001b[43maxes_lengths\u001b[49m\u001b[38;5;241;43m=\u001b[39;49m\u001b[43mhashable_axes_lengths\u001b[49m\n\u001b[1;32m    525\u001b[0m \u001b[43m    \u001b[49m\u001b[43m)\u001b[49m\n\u001b[1;32m    526\u001b[0m \u001b[38;5;28;01mexcept\u001b[39;00m EinopsError \u001b[38;5;28;01mas\u001b[39;00m e:\n\u001b[1;32m    527\u001b[0m     message \u001b[38;5;241m=\u001b[39m \u001b[38;5;124m'\u001b[39m\u001b[38;5;124m Error while processing \u001b[39m\u001b[38;5;132;01m{}\u001b[39;00m\u001b[38;5;124m-reduction pattern \u001b[39m\u001b[38;5;124m\"\u001b[39m\u001b[38;5;132;01m{}\u001b[39;00m\u001b[38;5;124m\"\u001b[39m\u001b[38;5;124m.\u001b[39m\u001b[38;5;124m'\u001b[39m\u001b[38;5;241m.\u001b[39mformat(reduction, pattern)\n",
            "File \u001b[0;32m/opt/anaconda3/envs/vaem/lib/python3.10/site-packages/einops/einops.py:250\u001b[0m, in \u001b[0;36m_apply_recipe\u001b[0;34m(backend, recipe, tensor, reduction_type, axes_lengths)\u001b[0m\n\u001b[1;32m    248\u001b[0m     tensor \u001b[38;5;241m=\u001b[39m backend\u001b[38;5;241m.\u001b[39madd_axes(tensor, n_axes\u001b[38;5;241m=\u001b[39mn_axes_w_added, pos2len\u001b[38;5;241m=\u001b[39madded_axes)\n\u001b[1;32m    249\u001b[0m \u001b[38;5;28;01mif\u001b[39;00m final_shapes \u001b[38;5;129;01mis\u001b[39;00m \u001b[38;5;129;01mnot\u001b[39;00m \u001b[38;5;28;01mNone\u001b[39;00m:\n\u001b[0;32m--> 250\u001b[0m     tensor \u001b[38;5;241m=\u001b[39m \u001b[43mbackend\u001b[49m\u001b[38;5;241;43m.\u001b[39;49m\u001b[43mreshape\u001b[49m\u001b[43m(\u001b[49m\u001b[43mtensor\u001b[49m\u001b[43m,\u001b[49m\u001b[43m \u001b[49m\u001b[43mfinal_shapes\u001b[49m\u001b[43m)\u001b[49m\n\u001b[1;32m    251\u001b[0m \u001b[38;5;28;01mreturn\u001b[39;00m tensor\n",
            "File \u001b[0;32m/opt/anaconda3/envs/vaem/lib/python3.10/site-packages/einops/_backends.py:92\u001b[0m, in \u001b[0;36mAbstractBackend.reshape\u001b[0;34m(self, x, shape)\u001b[0m\n\u001b[1;32m     91\u001b[0m \u001b[38;5;28;01mdef\u001b[39;00m \u001b[38;5;21mreshape\u001b[39m(\u001b[38;5;28mself\u001b[39m, x, shape):\n\u001b[0;32m---> 92\u001b[0m     \u001b[38;5;28;01mreturn\u001b[39;00m \u001b[43mx\u001b[49m\u001b[38;5;241;43m.\u001b[39;49m\u001b[43mreshape\u001b[49m\u001b[43m(\u001b[49m\u001b[43mshape\u001b[49m\u001b[43m)\u001b[49m\n",
            "\u001b[0;31mKeyboardInterrupt\u001b[0m: "
          ]
        }
      ],
      "source": [
        "# Train the model\n",
        "trainer = Train(args)\n",
        "trainer.train()"
      ]
    },
    {
      "cell_type": "markdown",
      "metadata": {},
      "source": [
        "## **Loading Pre-trained Model**"
      ]
    },
    {
      "cell_type": "markdown",
      "metadata": {},
      "source": [
        "#### **making the necessary test imports"
      ]
    },
    {
      "cell_type": "code",
      "execution_count": 7,
      "metadata": {},
      "outputs": [],
      "source": [
        "import torch\n",
        "import torch.nn as nn\n",
        "import torch.nn.functional as F\n",
        "from torchvision import transforms\n",
        "from torch.utils.data import DataLoader, Dataset\n",
        "import os\n",
        "import glob\n",
        "import cv2\n",
        "import sys\n",
        "import random\n",
        "\n",
        "from codes.models import SwinEncoder, StyleDecoder, StyleTransformer\n",
        "from codes.loss import custom_loss"
      ]
    },
    {
      "cell_type": "markdown",
      "metadata": {},
      "source": [
        "#### **setting the dest device**"
      ]
    },
    {
      "cell_type": "code",
      "execution_count": 10,
      "metadata": {},
      "outputs": [
        {
          "data": {
            "text/plain": [
              "device(type='cuda')"
            ]
          },
          "execution_count": 10,
          "metadata": {},
          "output_type": "execute_result"
        }
      ],
      "source": [
        "test_device = torch.device(\"cuda\" if torch.cuda.is_available() else \"cpu\")\n",
        "\n",
        "test_device"
      ]
    },
    {
      "cell_type": "markdown",
      "metadata": {},
      "source": [
        "#### **declaring the load_pretained_model object**"
      ]
    },
    {
      "cell_type": "code",
      "execution_count": 11,
      "metadata": {},
      "outputs": [],
      "source": [
        "class load_pretained_model(nn.Module):\n",
        "\n",
        "    def __init__(self,\n",
        "                 style_transformer_model_path: str = None,\n",
        "                 decoder_model_path: str = None,\n",
        "                 swin_encoder_model_path: str = None,\n",
        "                 dim=256,\n",
        "                 input_resolution=[32, 32],\n",
        "                 num_heads=8,\n",
        "                 window_size=8,\n",
        "                 mlp_ratio=4.0,\n",
        "                 act_layer='nn.ReLU'):\n",
        "\n",
        "        super(load_pretained_model, self).__init__()\n",
        "\n",
        "        self.style_transformer_model_path = style_transformer_model_path\n",
        "        self.decoder_model_path = decoder_model_path\n",
        "        self.swin_encoder_model_path = swin_encoder_model_path\n",
        "\n",
        "\n",
        "        self.dim = dim\n",
        "        self.input_resolution = input_resolution\n",
        "        self.num_heads = num_heads\n",
        "        self.window_size = window_size\n",
        "        self.mlp_ratio = mlp_ratio\n",
        "        self.act_layer = act_layer\n",
        "        \n",
        "        # create the style transformer model\n",
        "        self.style_transformer = StyleTransformer(\n",
        "            dim=self.dim,\n",
        "            input_resolution=tuple(self.input_resolution),\n",
        "            num_heads=self.num_heads,\n",
        "            window_size=self.window_size,\n",
        "            mlp_ratio=self.mlp_ratio,\n",
        "        )\n",
        "\n",
        "        # swin encoder automatically loads the pre-trained model weights if model path does not exist\n",
        "        self.swin_encoder = SwinEncoder(\n",
        "            relative_model_path=self.swin_encoder_model_path\n",
        "        )\n",
        "\n",
        "        # create the decoder model\n",
        "        self.decoder = StyleDecoder()\n",
        "\n",
        "        # load the models\n",
        "        self.load_models()\n",
        "\n",
        "        # set the models to eval mode\n",
        "        self.style_transformer.eval()\n",
        "        self.swin_encoder.eval()\n",
        "        self.decoder.eval()\n",
        "\n",
        "\n",
        "    def load_models(self):\n",
        "        self.style_transformer.load_state_dict(torch.load(self.style_transformer_model_path))\n",
        "        self.decoder.load_state_dict(torch.load(self.decoder_model_path))\n",
        "\n",
        "\n",
        "\n",
        "    def forward(self,\n",
        "                content_images: torch.Tensor,\n",
        "                style_images: torch.Tensor,\n",
        "                ):\n",
        "        # get the content and style features\n",
        "        content_features = self.swin_encoder(content_images)\n",
        "        style_features = self.swin_encoder(style_images)\n",
        "\n",
        "        # get the transformed features and permute the dimensions\n",
        "        transformed_features = self.style_transformer(content_features, style_features).permute(0, 3, 1, 2)\n",
        "\n",
        "        # get the output image\n",
        "        output_images = self.decoder(transformed_features)\n",
        "\n",
        "        return output_images\n"
      ]
    },
    {
      "cell_type": "markdown",
      "metadata": {},
      "source": [
        "#### **create the model and load pre-trained weights**"
      ]
    },
    {
      "cell_type": "code",
      "execution_count": 13,
      "metadata": {},
      "outputs": [],
      "source": [
        "# get the full project path\n",
        "project_path = os.getcwd()\n",
        "\n",
        "# declare the pre-trained model paths\n",
        "style_transformer_model_path = os.path.join(project_path, \"test_weights/style_transformer_pretrained.pt\")\n",
        "decoder_model_path = os.path.join(project_path, \"test_weights/decoder_pretrained.pt\")\n",
        "swin_encoder_model_path = os.path.join(project_path, \"test_weights/swin_encoder_pretrained.pt\")\n",
        "\n",
        "# load the pre-trained model\n",
        "model = load_pretained_model(\n",
        "    style_transformer_model_path=style_transformer_model_path,\n",
        "    decoder_model_path=decoder_model_path,\n",
        "    swin_encoder_model_path=swin_encoder_model_path\n",
        ").eval().to(test_device)"
      ]
    },
    {
      "cell_type": "markdown",
      "metadata": {},
      "source": [
        "#### **Create the test dataloader**"
      ]
    },
    {
      "cell_type": "code",
      "execution_count": 15,
      "metadata": {},
      "outputs": [],
      "source": [
        "transform_test = transforms.Compose([\n",
        "        transforms.ToPILImage(), # -> PIL image\n",
        "        transforms.Resize((256, 256)), # -> resize to 512x512\n",
        "        transforms.ToTensor(),\n",
        "        transforms.Normalize(mean=[0.485, 0.456, 0.406], std=[0.229, 0.224, 0.225])]\n",
        "        )\n",
        "\n",
        "transform_denormalize = transforms.Normalize(mean=[-0.485/0.229, -0.456/0.224, -0.406/0.225], std=[1/0.229, 1/0.224, 1/0.225])\n",
        "\n",
        "# create test dataset\n",
        "class test_dataset(Dataset):\n",
        "    # initialize the dataset\n",
        "    def __init__(self, project_absolute_path, test_dataset_relative_path = \"datasets/test_set\"):\n",
        "        # get the absolute path of the dataset\n",
        "        dataset_absolute_path = os.path.join(project_absolute_path, test_dataset_relative_path)\n",
        "\n",
        "        # check if the dataset exists\n",
        "        if not os.path.exists(dataset_absolute_path):\n",
        "            raise FileNotFoundError(f\"Dataset not found at {dataset_absolute_path}\")\n",
        "\n",
        "        # load coco dataset paths from local directory\n",
        "        self.coco_dataset_images_paths = sorted(glob.glob(os.path.join(dataset_absolute_path, \"*.jpg\")))\n",
        "\n",
        "        # check if the dataset is empty\n",
        "        if len(self.coco_dataset_images_paths) == 0:\n",
        "            raise FileNotFoundError(f\"No images found in the dataset at {dataset_absolute_path}\\n\\n!!!!!\\nPlease download the dataset from https://www.kaggle.com/competitions/painter-by-numbers/data?select=test.zip and extract it to the datasets/test directory.\\n!!!!!\\n\")\n",
        "\n",
        "    # return the length of the dataset\n",
        "    def __len__(self):\n",
        "        return len(self.coco_dataset_images_paths)\n",
        "\n",
        "    # return the image at the given index\n",
        "    def __getitem__(self, id):\n",
        "        # load image\n",
        "        img = cv2.imread(self.coco_dataset_images_paths[id])\n",
        "\n",
        "        try:\n",
        "            # convert the image to RGB\n",
        "            img = cv2.cvtColor(img, cv2.COLOR_BGR2RGB)\n",
        "        except:\n",
        "            print(f\"Error reading the image at {self.coco_dataset_images_paths[id]}\")\n",
        "            sys.exit(1)\n",
        "\n",
        "        # apply transformations\n",
        "        img = transform_test(img)\n",
        "\n",
        "        return img\n",
        " \n",
        "\n",
        "# create the test dataset object\n",
        "test_dataset_object = test_dataset(project_path)\n",
        "\n",
        "\n",
        "TEST_BATCH_SIZE = 1\n",
        "\n",
        "# create a test data loader for content and style images\n",
        "test_dataloader = DataLoader(test_dataset_object,\n",
        "                             batch_size=TEST_BATCH_SIZE,\n",
        "                             num_workers=0, \n",
        "                             pin_memory=True,\n",
        "                             shuffle=True)\n",
        "\n",
        "# get the dataloader iterator\n",
        "test_dataloader_iterator = iter(test_dataloader)\n"
      ]
    },
    {
      "cell_type": "markdown",
      "metadata": {},
      "source": [
        "#### **Test the model and store losses**"
      ]
    },
    {
      "cell_type": "code",
      "execution_count": 16,
      "metadata": {},
      "outputs": [
        {
          "name": "stdout",
          "output_type": "stream",
          "text": [
            "Total loss: 322.28, Content loss: 7.36, Style loss: 31.49\n",
            "Total loss: 210.99, Content loss: 7.27, Style loss: 20.37\n",
            "Total loss: 190.13, Content loss: 7.10, Style loss: 18.30\n",
            "Total loss: 503.07, Content loss: 7.34, Style loss: 49.57\n",
            "Total loss: 174.70, Content loss: 7.27, Style loss: 16.74\n",
            "Total loss: 39.33, Content loss: 7.42, Style loss: 3.19\n",
            "Total loss: 367.02, Content loss: 7.52, Style loss: 35.95\n",
            "Total loss: 473.62, Content loss: 7.51, Style loss: 46.61\n",
            "Total loss: 210.46, Content loss: 7.30, Style loss: 20.32\n",
            "Total loss: 153.94, Content loss: 6.98, Style loss: 14.70\n",
            "Total loss: 190.93, Content loss: 7.33, Style loss: 18.36\n",
            "Total loss: 417.51, Content loss: 7.28, Style loss: 41.02\n",
            "Total loss: 512.01, Content loss: 7.53, Style loss: 50.45\n",
            "Total loss: 206.13, Content loss: 7.41, Style loss: 19.87\n",
            "Total loss: 187.23, Content loss: 7.41, Style loss: 17.98\n"
          ]
        }
      ],
      "source": [
        "# create the loss object\n",
        "# loss = custom_loss(project_absolute_path=project_path)\n",
        "loss = custom_loss(project_absolute_path=project_path).eval().to(test_device)\n",
        "\n",
        "total_losses = []\n",
        "content_losses = []\n",
        "style_losses = []\n",
        "\n",
        "num_of_different_batch_combinations = len(test_dataset_object) // (TEST_BATCH_SIZE*2)\n",
        "\n",
        "for i in range(num_of_different_batch_combinations):\n",
        "    # sample a batch of images for content and style\n",
        "    content_images = next(test_dataloader_iterator)\n",
        "    style_images = next(test_dataloader_iterator)\n",
        "\n",
        "    # move the images to the test device\n",
        "    content_images = content_images.to(test_device)\n",
        "    style_images = style_images.to(test_device)\n",
        "\n",
        "    # get the output images\n",
        "    output_images = model(content_images, style_images)\n",
        "\n",
        "    # # carry the images to the cpu\n",
        "    # output_images = output_images.cpu()\n",
        "    # content_images = content_images.cpu()\n",
        "    # style_images = style_images.cpu()\n",
        "\n",
        "\n",
        "    # calculate the loss\n",
        "    total_loss, content_loss, style_loss = loss(content_images,\n",
        "                    style_images,\n",
        "                    output_images,\n",
        "                    output_content_and_style_loss=True,\n",
        "                    output_similarity_loss=False\n",
        "                    )\n",
        "\n",
        "    # print the loss\n",
        "    print(f\"Total loss: {total_loss.item():.2f}, Content loss: {content_loss.item():.2f}, Style loss: {style_loss.item():.2f}\")\n",
        "\n",
        "    # append the losses\n",
        "    total_losses.append(total_loss.item())\n",
        "    content_losses.append(content_loss.item())\n",
        "    style_losses.append(style_loss.item())\n"
      ]
    },
    {
      "cell_type": "markdown",
      "metadata": {},
      "source": [
        "#### **calculate average losses**"
      ]
    },
    {
      "cell_type": "code",
      "execution_count": 17,
      "metadata": {},
      "outputs": [
        {
          "name": "stdout",
          "output_type": "stream",
          "text": [
            "For 15 different batch combinations with batch size 1:\n",
            "\tAverage total loss: 277.29\n",
            "\tAverage content loss: 7.34\n",
            "\tAverage style loss: 27.00\n"
          ]
        }
      ],
      "source": [
        "# calculate the average loss\n",
        "average_total_loss = sum(total_losses) / len(total_losses)\n",
        "average_content_loss = sum(content_losses) / len(content_losses)\n",
        "average_style_loss = sum(style_losses) / len(style_losses)\n",
        "\n",
        "# print the average loss\n",
        "print(f\"For {num_of_different_batch_combinations} different batch combinations with batch size {TEST_BATCH_SIZE}:\")\n",
        "print(f\"\\tAverage total loss: {average_total_loss:.2f}\")\n",
        "print(f\"\\tAverage content loss: {average_content_loss:.2f}\")\n",
        "print(f\"\\tAverage style loss: {average_style_loss:.2f}\")"
      ]
    },
    {
      "cell_type": "markdown",
      "metadata": {},
      "source": [
        "#### **Display the last batch results**"
      ]
    },
    {
      "cell_type": "code",
      "execution_count": 20,
      "metadata": {},
      "outputs": [
        {
          "data": {
            "image/png": "[encoded data removed]",
            "text/plain": [
              "<Figure size 500x500 with 3 Axes>"
            ]
          },
          "metadata": {},
          "output_type": "display_data"
        }
      ],
      "source": [
        "# display the last batch of images\n",
        "import matplotlib.pyplot as plt\n",
        "\n",
        "fig, ax = plt.subplots(TEST_BATCH_SIZE, 3, figsize=(TEST_BATCH_SIZE*5, 5))\n",
        "\n",
        "if TEST_BATCH_SIZE != 1:\n",
        "    for i in range(TEST_BATCH_SIZE):\n",
        "        ax[i, 0].imshow((transform_denormalize(content_images[i].detach().cpu()).permute(1, 2, 0)))\n",
        "        ax[i, 0].axis(\"off\")\n",
        "        ax[i, 0].set_title(\"Content Image\")\n",
        "\n",
        "\n",
        "        ax[i, 1].imshow(((output_images[i].detach().cpu()).permute(1, 2, 0)))\n",
        "        ax[i, 1].axis(\"off\")\n",
        "        ax[i, 1].set_title(\"Output Image\")\n",
        "\n",
        "        ax[i, 2].imshow((transform_denormalize(style_images[i].detach().cpu()).permute(1, 2, 0)))\n",
        "        ax[i, 2].axis(\"off\")\n",
        "        ax[i, 2].set_title(\"Style Image\")\n",
        "else:\n",
        "    ax[0].imshow((transform_denormalize(content_images[0].detach().cpu()).permute(1, 2, 0)))\n",
        "    ax[0].axis(\"off\")\n",
        "    ax[0].set_title(\"Content Image\")\n",
        "\n",
        "    ax[1].imshow((output_images[0].detach().cpu()).permute(1, 2, 0))\n",
        "    ax[1].axis(\"off\")\n",
        "    ax[1].set_title(\"Output Image\")\n",
        "\n",
        "    ax[2].imshow((transform_denormalize(style_images[0].detach().cpu()).permute(1, 2, 0)))\n",
        "    ax[2].axis(\"off\")\n",
        "    ax[2].set_title(\"Style Image\")\n",
        "plt.show()"
      ]
    },
    {
      "cell_type": "markdown",
      "metadata": {},
      "source": [
        "1. We encountered ambiguity regarding the Swin model used in the Encoder section, specifically whether it was pretrained and if it was included in the training process. To address this, we trained it under different configurations: pretrained and non-pretrained, both with and without training inclusion. Ultimately, we decided to use the pretrained model in a frozen state as the default configuration and selected the base Swin model to align with the decoder architecture's dimensions specified in the paper.\n",
        "\n",
        "\n",
        "2. There are discrepancies between the descriptions and visuals of the StyleTransformer model:\n",
        "    - In the model depicted in the image, following the self-attention in the Transformer Decoder block, the MLP layer and residual connections are included. However, the text does not mention the MLP. \n",
        "    - The image shows that the content does not undergo linear projection before cross-attention in the Transformer Decoder block, which contradicts the text.\n",
        "    - The image indicates that instance normalization is applied to the query and key projections used in cross-attention, whereas the text specifies that instance normalization is applied before the projection.\n",
        "    - The text does not clarify whether the instance norms are affine or not.\n",
        "\n",
        "\n",
        "3. There is no detailed explanation regarding the implementation of parameter-sharing blocks in the Transformer Encoder model. We trained models in which the value projection in self-attention was shared for scale and shift, as well as models with distinct projections for each with the same attention maps for both.\n",
        "\n",
        "\n",
        "4. In the loss functions, the paper does not explicitly clarify whether squared error or Euclidean distance is used. Although the cited paper (Johnson et al., 2016) employs Euclidean distance, we used squared error for the loss values to align with the paper.\n",
        "\n",
        "\n",
        "5. The paper does not explicitly specify whether the loss functions are scaled based on batch size, channel size, image height, or image width. We calculate the mean of the squared distances, thereby scaling the loss according to batch size and channel size, as well as image height and width in the content loss. This approach seemed more plausible and ensured that the loss values were better aligned with the results on the paper.\n",
        "\n",
        "\n",
        "6. While training the model using the meta-learning training algorithm (Figure 1), we were unable to achieve the desired loss values and output images (Figure 2.). \n"
      ]
    },
    {
      "cell_type": "markdown",
      "metadata": {},
      "source": [
        "<div style=\"text-align: center;\">\n",
        "    <img src=\"./figures/algorithm.png\" alt=\"**Figure 1**: The Meta Training algorithm used in the paper.\" width=\"700\" />\n",
        "</div>"
      ]
    },
    {
      "cell_type": "markdown",
      "metadata": {},
      "source": [
        "<div style=\"text-align: center;\"> Figure 1: The Meta Training algorithm used in the paper.   </div>"
      ]
    },
    {
      "cell_type": "markdown",
      "metadata": {},
      "source": [
        "<div style=\"text-align: center;\">\n",
        "    <img src=\"./figures/master-output.png\" alt=\"**Figure 2**: The loss plots of the default Master model training, with Meta Training algorithm\" width=\"1000\" />\n",
        "</div>"
      ]
    },
    {
      "cell_type": "markdown",
      "metadata": {},
      "source": [
        "<div style=\"text-align: center;\"> Figure 2: The loss plots of the default Master model training, with Meta Training algorithm  </div>"
      ]
    },
    {
      "cell_type": "markdown",
      "metadata": {},
      "source": [
        "However, without the meta-learning training algorithm, when we directly trained the real model parameters with the Adam optimizer, we found that  the loss plots met our expectations and the model preserves the content in its outputs."
      ]
    },
    {
      "cell_type": "markdown",
      "metadata": {},
      "source": [
        "<div style=\"text-align: center;\">\n",
        "    <img src=\"./figures/master-nometa.png\" alt=\"**Figure 3**: The loss plots of the  Master model without meta training.\" width=\"1000\" />\n",
        "</div>"
      ]
    },
    {
      "cell_type": "markdown",
      "metadata": {},
      "source": [
        "<div style=\"text-align: center;\"> Figure 3: The loss plots of the  Master model without meta training. </div>"
      ]
    },
    {
      "cell_type": "markdown",
      "metadata": {},
      "source": [
        "<div style=\"text-align: center;\">\n",
        "    <img src=\"./figures/master-nometa-out1.png\" alt=\"**Figure 3**: The outputs  of the  Master model without meta training.\" width=\"1000\" />\n",
        "</div>\n",
        "<div style=\"text-align: center;\">\n",
        "    <img src=\"./figures/master-nometa-out2.png\" alt=\"**Figure 4**: The outputs of the  Master model without meta training.\" width=\"1000\" />\n",
        "</div>"
      ]
    },
    {
      "cell_type": "markdown",
      "metadata": {},
      "source": [
        "<div style=\"text-align: center;\"> Figure 4: Example outputs from the Master model training without Meta Training algorithm, with different hyperparameters. </div>"
      ]
    },
    {
      "cell_type": "markdown",
      "metadata": {},
      "source": [
        "- To address the issues highlighted in the second challenge concerning StyleTransformer implementations, we implemented a variety of models to evaluate the discrepancies during training. Additionally to determine if there were any miscalculations within the loss functions, we adjusted the lambda parameter, which scales the losses. Various training sessions were conducted as illustrated in Figure 5. Based on the outcomes, we hypothesize that the core issue resides within the Meta Training algorithm. Consequently, our current focus is on investigating and refining the Meta Training algorithm to resolve these issues. The figures below (Figure 5, 6, 7, 8) are from 2 experiments where we interpreted the architecture in a different way (we tried over 5 architectures due to ambiguities, it is one of them). You can see that learning content without meta-learning were possible, when hyperparameters are adjusted."
      ]
    },
    {
      "cell_type": "markdown",
      "metadata": {},
      "source": [
        "<div style=\"text-align: center;\">\n",
        "    <img src=\"./figures/master-lambda-out.png\" alt=\"**Figure 5**: The output of the Master model without meta training, using different lambda parameters: above with lambda set to 2, and below with lambda set to 10.\" width=\"1000\" />\n",
        "</div>"
      ]
    },
    {
      "cell_type": "markdown",
      "metadata": {
        "notebookRunGroups": {
          "groupValue": "1"
        }
      },
      "source": [
        "<div style=\"text-align: center;\">  Figure 5: The output of the Master model without meta training, using different lambda parameters: above with lambda set to 2, and below with lambda set to 10.</div>"
      ]
    },
    {
      "cell_type": "markdown",
      "metadata": {},
      "source": [
        "<div style=\"text-align: center;\">\n",
        "    <img src=\"./figures/master_nometa_another_interpretation_with_different_lambdas_out2.png\" alt=\"**Figure 5**: The output of the Master model without meta training, using different lambda parameters: above with lambda set to 2, and below with lambda set to 10.\" width=\"1000\" />\n",
        "</div>\n"
      ]
    },
    {
      "cell_type": "markdown",
      "metadata": {},
      "source": [
        "<div style=\"text-align: center;\">  Figure 6: Another output of the Master model without meta training, using different lambda parameters: above with lambda set to 2, and below with lambda set to 10.</div>"
      ]
    },
    {
      "cell_type": "markdown",
      "metadata": {},
      "source": [
        "<div style=\"text-align: center;\">\n",
        "    <img src=\"./figures/master_nometa_another_interpretation_with_different_lambdas_content.png\" alt=\"**Figure 5**: The output of the Master model without meta training, using different lambda parameters: above with lambda set to 2, and below with lambda set to 10.\" width=\"1000\" />\n",
        "</div>"
      ]
    },
    {
      "cell_type": "markdown",
      "metadata": {},
      "source": [
        "<div style=\"text-align: center;\">  Figure 7: The content losses of the Master model without meta training, using different lambda parameters: above with lambda set to 2, and below with lambda set to 10.</div>"
      ]
    },
    {
      "cell_type": "markdown",
      "metadata": {},
      "source": [
        "<div style=\"text-align: center;\">\n",
        "    <img src=\"./figures/master_nometa_another_interpretation_with_different_lambdas_style.png\" alt=\"**Figure 5**: The output of the Master model without meta training, using different lambda parameters: above with lambda set to 2, and below with lambda set to 10.\" width=\"1000\" />\n",
        "</div>\n"
      ]
    },
    {
      "cell_type": "markdown",
      "metadata": {},
      "source": [
        "<div style=\"text-align: center;\">  Figure 8: The style losses of the Master model without meta training, using different lambda parameters: above with lambda set to 2, and below with lambda set to 10.</div>"
      ]
    }
  ],
  "metadata": {
    "colab": {
      "include_colab_link": true,
      "name": "main-demos.ipynb",
      "provenance": []
    },
    "kernelspec": {
      "display_name": "Python 3.8.13 ('gan')",
      "language": "python",
      "name": "python3"
    },
    "language_info": {
      "codemirror_mode": {
        "name": "ipython",
        "version": 3
      },
      "file_extension": ".py",
      "mimetype": "text/x-python",
      "name": "python",
      "nbconvert_exporter": "python",
      "pygments_lexer": "ipython3",
      "version": "3.10.13"
    },
    "vscode": {
      "interpreter": {
        "hash": "1574755903cdb34dd59c92caa17a10f4d65534a19f0435b7dc632f13bd5d95f2"
      }
    }
  },
  "nbformat": 4,
  "nbformat_minor": 0
}
